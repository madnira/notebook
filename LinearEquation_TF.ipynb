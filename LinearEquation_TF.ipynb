{
  "nbformat": 4,
  "nbformat_minor": 0,
  "metadata": {
    "colab": {
      "name": "LinearEquation_TF.ipynb",
      "provenance": [],
      "private_outputs": true
    },
    "kernelspec": {
      "name": "python3",
      "display_name": "Python 3"
    },
    "language_info": {
      "name": "python"
    },
    "accelerator": "GPU"
  },
  "cells": [
    {
      "cell_type": "code",
      "execution_count": null,
      "metadata": {
        "collapsed": true,
        "id": "c75rrqlKPivj"
      },
      "outputs": [],
      "source": [
        "import tensorflow as tf\n",
        "import numpy as np\n",
        "from tensorflow.keras import Sequential \n",
        "from tensorflow.keras.layers import Dense\n",
        "\n",
        "model = Sequential([Dense(units=1, input_shape=[1])])\n",
        "model.compile(optimizer='sgd', loss='mean_squared_error' , metrics=[tf.keras.metrics.Accuracy()])\n",
        "    \n"
      ]
    },
    {
      "cell_type": "code",
      "source": [
        "xs = np.array([-1.0, 0.0, 1.0, 2.0, 3.0, 4.0, 5.0, 6.0, 7.0, 8.0, 9.0, 10.0, 11.0, 12.0, 13.0, 14.0], dtype=float)\n",
        "ys = np.array([-3.0, -1.0, 1.0, 3.0, 5.0, 7.0, 9.0, 11.0, 13.0, 15.0, 17.0, 19.0, 21.0, 23.0, 25.0, 27.0], dtype=float)"
      ],
      "metadata": {
        "id": "dVYyasaUa2OI"
      },
      "execution_count": null,
      "outputs": []
    },
    {
      "cell_type": "code",
      "source": [
        "model.fit(xs, ys, epochs=1500)"
      ],
      "metadata": {
        "id": "_RVEdjayZaig"
      },
      "execution_count": null,
      "outputs": []
    },
    {
      "cell_type": "code",
      "source": [
        "print(model.predict([9.0]))"
      ],
      "metadata": {
        "id": "XlXShaMTS0Ew"
      },
      "execution_count": null,
      "outputs": []
    },
    {
      "cell_type": "code",
      "source": [
        "#@title Equation is Y = 2X - 1\n",
        "\n",
        "X = #@param {type:\"number\"}\n",
        "\n",
        "#@markdown Predicted valoue of Y :\n",
        "\n",
        "Y = model.predict([X])\n",
        "\n",
        "round(float(Y[0]))\n"
      ],
      "metadata": {
        "id": "DfYg-S08KR4D"
      },
      "execution_count": null,
      "outputs": []
    }
  ]
}