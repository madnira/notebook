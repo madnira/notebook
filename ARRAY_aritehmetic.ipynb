{
 "metadata": {
  "language_info": {
   "codemirror_mode": {
    "name": "ipython",
    "version": 3
   },
   "file_extension": ".py",
   "mimetype": "text/x-python",
   "name": "python",
   "nbconvert_exporter": "python",
   "pygments_lexer": "ipython3",
   "version": "3.8.2"
  },
  "orig_nbformat": 2,
  "kernelspec": {
   "name": "python382jvsc74a57bd031f2aee4e71d21fbe5cf8b01ff0e069b9275f58929596ceb00d14d90e3e16cd6",
   "display_name": "Python 3.8.2 64-bit"
  },
  "metadata": {
   "interpreter": {
    "hash": "31f2aee4e71d21fbe5cf8b01ff0e069b9275f58929596ceb00d14d90e3e16cd6"
   }
  }
 },
 "nbformat": 4,
 "nbformat_minor": 2,
 "cells": [
  {
   "cell_type": "code",
   "execution_count": null,
   "metadata": {},
   "outputs": [],
   "source": [
    "import numpy as np\n",
    "# Basic Math\n",
    "\n",
    "x = np.array([[1,2], [3,4]], dtype=np.float64)\n",
    "y = np.array([[7,8], [9,5]], dtype=np.float64)\n",
    "print (x ,\"\\n\", y)\n",
    "print (\"SHAPE of ARRAY\",x.shape)\n",
    "print (\"\\n X+Y \", np.add(x,y))\n",
    "print (\"\\n X-Y \", np.subtract(y,x))\n",
    "print (\"\\n X*Y \", np.multiply(x,y))"
   ]
  },
  {
   "cell_type": "code",
   "execution_count": null,
   "metadata": {},
   "outputs": [],
   "source": [
    "# DOT product\n",
    "\n",
    "# Dot product\n",
    "a = np.array([[1,2,3], [4,5,6]], dtype=np.float64) # we can specify dtype\n",
    "b = np.array([[7,8], [9,10], [11, 12]], dtype=np.float64)\n",
    "c = a.dot(b)\n",
    "\n",
    "print (c)"
   ]
  },
  {
   "cell_type": "code",
   "execution_count": null,
   "metadata": {},
   "outputs": [],
   "source": [
    "# Sum across a dimension\n",
    "x = np.array([[1,8],[9,4],[5,6]])\n",
    "print (x)\n",
    "print (\"sum all: \", np.sum(x)) # adds all elements\n",
    "print (\"sum axis=0: \", np.sum(x, axis=0)) # sum across rows\n",
    "print (\"sum axis=1: \", np.sum(x, axis=1)) # sum across columns\n",
    "\n",
    "print (\"min: \", x.min())\n",
    "print (\"max: \", x.max())\n",
    "print (\"min axis=0: \", x.min(axis=0))\n",
    "print (\"min axis=1: \", x.min(axis=1))"
   ]
  },
  {
   "cell_type": "code",
   "execution_count": null,
   "metadata": {},
   "outputs": [],
   "source": [
    "# Broadcasting - adding a scalar to a vector\n",
    "x = np.array([1,2]) # vector\n",
    "y = np.array(3) # scalar\n",
    "z = x + y\n",
    "print (\"x : \",x,\"y :\",y, \"\\nz:\", z)"
   ]
  },
  {
   "cell_type": "code",
   "execution_count": null,
   "metadata": {},
   "outputs": [],
   "source": [
    "# Transposing - rotate the tensor\n",
    "x = np.array([[1,2,3], [4,5,6]])\n",
    "print (\"x:\\n\", x)\n",
    "print (\"x.shape: \", x.shape)\n",
    "y = np.transpose(x, (1,0)) # flip dimensions at index 0 and 1\n",
    "print (\"y:\\n\", y)\n",
    "print (\"y.shape: \", y.shape)"
   ]
  },
  {
   "cell_type": "code",
   "execution_count": null,
   "metadata": {},
   "outputs": [],
   "source": []
  }
 ]
}