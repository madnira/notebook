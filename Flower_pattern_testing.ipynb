{
 "cells": [
  {
   "cell_type": "code",
   "execution_count": 1,
   "metadata": {},
   "outputs": [
    {
     "data": {
      "text/html": [
       "<div>\n",
       "<style scoped>\n",
       "    .dataframe tbody tr th:only-of-type {\n",
       "        vertical-align: middle;\n",
       "    }\n",
       "\n",
       "    .dataframe tbody tr th {\n",
       "        vertical-align: top;\n",
       "    }\n",
       "\n",
       "    .dataframe thead th {\n",
       "        text-align: right;\n",
       "    }\n",
       "</style>\n",
       "<table border=\"1\" class=\"dataframe\">\n",
       "  <thead>\n",
       "    <tr style=\"text-align: right;\">\n",
       "      <th></th>\n",
       "      <th>sepal_length_cm</th>\n",
       "      <th>sepal_width_cm</th>\n",
       "      <th>petal_length_cm</th>\n",
       "      <th>petal_width_cm</th>\n",
       "    </tr>\n",
       "  </thead>\n",
       "  <tbody>\n",
       "    <tr>\n",
       "      <th>count</th>\n",
       "      <td>147.000000</td>\n",
       "      <td>147.000000</td>\n",
       "      <td>147.000000</td>\n",
       "      <td>147.000000</td>\n",
       "    </tr>\n",
       "    <tr>\n",
       "      <th>mean</th>\n",
       "      <td>5.863946</td>\n",
       "      <td>3.058503</td>\n",
       "      <td>3.807483</td>\n",
       "      <td>1.223550</td>\n",
       "    </tr>\n",
       "    <tr>\n",
       "      <th>std</th>\n",
       "      <td>0.792512</td>\n",
       "      <td>0.432869</td>\n",
       "      <td>1.748427</td>\n",
       "      <td>0.758009</td>\n",
       "    </tr>\n",
       "    <tr>\n",
       "      <th>min</th>\n",
       "      <td>4.400000</td>\n",
       "      <td>2.000000</td>\n",
       "      <td>1.000000</td>\n",
       "      <td>0.100000</td>\n",
       "    </tr>\n",
       "    <tr>\n",
       "      <th>25%</th>\n",
       "      <td>5.150000</td>\n",
       "      <td>2.800000</td>\n",
       "      <td>1.600000</td>\n",
       "      <td>0.300000</td>\n",
       "    </tr>\n",
       "    <tr>\n",
       "      <th>50%</th>\n",
       "      <td>5.800000</td>\n",
       "      <td>3.000000</td>\n",
       "      <td>4.400000</td>\n",
       "      <td>1.300000</td>\n",
       "    </tr>\n",
       "    <tr>\n",
       "      <th>75%</th>\n",
       "      <td>6.400000</td>\n",
       "      <td>3.300000</td>\n",
       "      <td>5.100000</td>\n",
       "      <td>1.800000</td>\n",
       "    </tr>\n",
       "    <tr>\n",
       "      <th>max</th>\n",
       "      <td>7.900000</td>\n",
       "      <td>4.400000</td>\n",
       "      <td>6.900000</td>\n",
       "      <td>2.500000</td>\n",
       "    </tr>\n",
       "  </tbody>\n",
       "</table>\n",
       "</div>"
      ],
      "text/plain": [
       "       sepal_length_cm  sepal_width_cm  petal_length_cm  petal_width_cm\n",
       "count       147.000000      147.000000       147.000000      147.000000\n",
       "mean          5.863946        3.058503         3.807483        1.223550\n",
       "std           0.792512        0.432869         1.748427        0.758009\n",
       "min           4.400000        2.000000         1.000000        0.100000\n",
       "25%           5.150000        2.800000         1.600000        0.300000\n",
       "50%           5.800000        3.000000         4.400000        1.300000\n",
       "75%           6.400000        3.300000         5.100000        1.800000\n",
       "max           7.900000        4.400000         6.900000        2.500000"
      ]
     },
     "execution_count": 1,
     "metadata": {},
     "output_type": "execute_result"
    }
   ],
   "source": [
    "#----------importing pandas & creating a object pd-------------------\n",
    "import pandas as pd\n",
    "\n",
    "#------ Importing the processed csv\n",
    "\n",
    "iris_data = pd.read_csv('dataSet/iris-data_cleaned_1.0.csv')\n",
    "\n",
    "iris_data.describe()"
   ]
  },
  {
   "cell_type": "code",
   "execution_count": 2,
   "metadata": {},
   "outputs": [
    {
     "name": "stdout",
     "output_type": "stream",
     "text": [
      "\u001b[1m \u001b[94m Test Case I : The type of flowers are 3 \u001b[0m\n",
      "Tested : No Errors \n",
      "Values : \n",
      "\n",
      "['Iris-setosa' 'Iris-versicolor' 'Iris-virginica']\n"
     ]
    }
   ],
   "source": [
    "#--Test Case I - confirming the value of flower types is 3\n",
    "\n",
    "print (\"\\033[1m \\033[94m Test Case I : The type of flowers are 3 \\033[0m\")\n",
    "\n",
    "assert len(iris_data['type'].unique() ) == 3\n",
    "print (\"Tested : No Errors \\nValues : \\n\")\n",
    "\n",
    "print (iris_data['type'].unique())"
   ]
  },
  {
   "cell_type": "code",
   "execution_count": 3,
   "metadata": {},
   "outputs": [
    {
     "name": "stdout",
     "output_type": "stream",
     "text": [
      "\u001b[1m \u001b[94mTest Case II : Comparing the count of source list with test list \u001b[0m\n",
      "\n",
      "Number of source list matches test list\n",
      "\n"
     ]
    }
   ],
   "source": [
    "# Test Case II - Comparing the count of sources in data sheet with the Test List provided.\n",
    "\n",
    "print '\\033[1m \\033[94mTest Case II : Comparing the count of source list with test list \\033[0m'\n",
    "\n",
    "test_data = pd.read_csv('dataSet/iris-data_test_1.0.csv')\n",
    "\n",
    "test_list = test_data['source'].unique()\n",
    "source_list = iris_data['source'].unique()\n",
    "\n",
    "\n",
    "# Matching the count with if statement\n",
    "\n",
    "if len(test_list) == len(source_list):\n",
    "    print '\\nNumber of source list matches test list\\n'\n",
    "   \n",
    "        \n",
    "else :                           # Finding out which data is different in case of mismatch\n",
    "    print '\\nMismatch in the count of Test Data & Source Data\\n'\n",
    "    \n",
    "    if len(test_list) < len(source_list): \n",
    "        print ('Test set have '+ str(len(test_list)) + ' types, whereas data sheet have '+ str(len(source_list)) + 'types.')\n",
    "        \n",
    "        y = 0\n",
    "        while y<len(source_list):\n",
    "            print source_list[y]\n",
    "            y += 1\n",
    "                \n",
    "    else :\n",
    "        print ('Test set have '+ str(len(test_list)) + ' types, whereas data set have '+ str(len(source_list)) + ' types.')\n",
    "        \n",
    "        y = 0\n",
    "        while y<len(test_list):\n",
    "            print test_list[y]\n",
    "            y += 1\n",
    "            "
   ]
  },
  {
   "cell_type": "code",
   "execution_count": 4,
   "metadata": {},
   "outputs": [
    {
     "name": "stdout",
     "output_type": "stream",
     "text": [
      "Test Case - III : compare the value of the available source lists with the test list\n",
      "\n",
      "Elements matched with test list - Kolkata\n",
      "Elements matched with test list - Gujrat\n",
      "Elements matched with test list - Rinku\n"
     ]
    }
   ],
   "source": [
    "# Test Case to compare the value of the test list and source list\n",
    "\n",
    "\n",
    "print 'Test Case - III : compare the value of the available source lists with the test list\\n'\n",
    "\n",
    "z = 0\n",
    "\n",
    "while z<len(test_list):\n",
    "    if test_list[z] == source_list[z] :\n",
    "        print ('Elements matched with test list - ' + test_list[z])\n",
    "        z += 1\n",
    "        \n",
    "    elif test_list[z] != source_list[z] :\n",
    "        print ('The '+ str(z) + ' element '+ test_list[z] + ' did not matched with ' + source_list[z])\n",
    "        \n",
    "        iris_data.loc[iris_data['source'] == source_list[z], 'source'] = test_list[z] # Fixing the mismatch \n",
    "        print ('iris-data_cleaned_1.0.csv updated with value : '+ test_list[z])\n",
    "        \n",
    "        #Update the Data Set with the value from the test data\n",
    "\n",
    "        iris_data.to_csv(\"dataSet/iris-data_cleaned_1.0.csv\", index=False)\n",
    "\n",
    "        iris_data_updated = pd.read_csv('dataSet/iris-data_cleaned_1.0.csv', na_values=['NA'])\n",
    "\n",
    "        print ('The new values are :\\n') \n",
    "        print iris_data_updated['source'].unique()\n",
    "        \n",
    "        z += 1\n",
    "                \n",
    "    else :\n",
    "        break\n",
    "\n"
   ]
  },
  {
   "cell_type": "code",
   "execution_count": null,
   "metadata": {},
   "outputs": [],
   "source": []
  }
 ],
 "metadata": {
  "kernelspec": {
   "display_name": "Python 2",
   "language": "python",
   "name": "python2"
  },
  "language_info": {
   "codemirror_mode": {
    "name": "ipython",
    "version": 2
   },
   "file_extension": ".py",
   "mimetype": "text/x-python",
   "name": "python",
   "nbconvert_exporter": "python",
   "pygments_lexer": "ipython2",
   "version": "2.7.18rc1"
  }
 },
 "nbformat": 4,
 "nbformat_minor": 2
}
