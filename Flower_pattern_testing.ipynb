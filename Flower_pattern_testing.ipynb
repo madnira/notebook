{
 "cells": [
  {
   "cell_type": "code",
   "execution_count": null,
   "metadata": {},
   "outputs": [],
   "source": [
    "#----------importing pandas & creating a object pd-------------------\n",
    "import pandas as pd\n",
    "\n",
    "#------ Importing the processed csv\n",
    "\n",
    "iris_data = pd.read_csv('E:\\data\\dataSet\\iris-data_cleaned_1.0.csv')\n",
    "\n",
    "iris_data.describe()"
   ]
  },
  {
   "cell_type": "code",
   "execution_count": null,
   "metadata": {},
   "outputs": [],
   "source": [
    "#--Test Case I - confirming the value of flower types is 3\n",
    "\n",
    "print '\\033[1m \\033[94m Test Case I : The type of flowers are 3 \\033[0m'\n",
    "\n",
    "assert len(iris_data['type'].unique() ) == 3\n",
    "print \"Tested : No Errors \\nValues : \\n\"\n",
    "\n",
    "print iris_data['type'].unique()"
   ]
  },
  {
   "cell_type": "code",
   "execution_count": null,
   "metadata": {},
   "outputs": [],
   "source": [
    "# Test Case II - Comparing the count of sources in data sheet with the Test List provided.\n",
    "\n",
    "print '\\033[1m \\033[94mTest Case II : Comparing the count of source list with test list \\033[0m'\n",
    "\n",
    "test_data = pd.read_csv('E:\\data\\dataSet\\iris-data_test_1.0.csv')\n",
    "\n",
    "test_list = test_data['source'].unique()\n",
    "source_list = iris_data['source'].unique()\n",
    "\n",
    "\n",
    "# Matching the count with if statement\n",
    "\n",
    "if len(test_list) == len(source_list):\n",
    "    print '\\nNumber of source list matches test list\\n'\n",
    "   \n",
    "        \n",
    "else :                           # Finding out which data is different in case of mismatch\n",
    "    print '\\nMismatch in the count of Test Data & Source Data\\n'\n",
    "    \n",
    "    if len(test_list) < len(source_list): \n",
    "        print ('Test set have '+ str(len(test_list)) + ' types, whereas data sheet have '+ str(len(source_list)) + 'types.')\n",
    "        \n",
    "        y = 0\n",
    "        while y<len(source_list):\n",
    "            print source_list[y]\n",
    "            y += 1\n",
    "                \n",
    "    else :\n",
    "        print ('Test set have '+ str(len(test_list)) + ' types, whereas data set have '+ str(len(source_list)) + ' types.')\n",
    "        \n",
    "        y = 0\n",
    "        while y<len(test_list):\n",
    "            print test_list[y]\n",
    "            y += 1\n",
    "            "
   ]
  },
  {
   "cell_type": "code",
   "execution_count": null,
   "metadata": {},
   "outputs": [],
   "source": [
    "# Test Case to compare the value of the test list and source list\n",
    "\n",
    "\n",
    "print 'Test Case - III : compare the value of the available source lists with the test list\\n'\n",
    "\n",
    "z = 0\n",
    "\n",
    "while z<len(test_list):\n",
    "    if test_list[z] == source_list[z] :\n",
    "        print ('Elements matched with test list - ' + test_list[z])\n",
    "        z += 1\n",
    "        \n",
    "    elif test_list[z] != source_list[z] :\n",
    "        print ('The '+ str(z) + ' element '+ test_list[z] + ' did not matched with ' + source_list[z])\n",
    "        \n",
    "        iris_data.loc[iris_data['source'] == source_list[z], 'source'] = test_list[z] # Fixing the mismatch \n",
    "        print ('iris-data_cleaned_1.0.csv updated with value : '+ test_list[z])\n",
    "        \n",
    "        #Update the Data Set with the value from the test data\n",
    "\n",
    "        iris_data.to_csv(\"E:\\data\\dataSet\\iris-data_cleaned_1.0.csv\", index=False)\n",
    "\n",
    "        iris_data_updated = pd.read_csv('E:\\data\\dataSet\\iris-data_cleaned_1.0.csv', na_values=['NA'])\n",
    "\n",
    "        print ('The new values are :\\n') \n",
    "        print iris_data_updated['source'].unique()\n",
    "        \n",
    "        z += 1\n",
    "                \n",
    "    else :\n",
    "        break\n",
    "\n"
   ]
  },
  {
   "cell_type": "code",
   "execution_count": null,
   "metadata": {},
   "outputs": [],
   "source": []
  }
 ],
 "metadata": {
  "kernelspec": {
   "display_name": "Python 2",
   "language": "python",
   "name": "python2"
  },
  "language_info": {
   "codemirror_mode": {
    "name": "ipython",
    "version": 2
   },
   "file_extension": ".py",
   "mimetype": "text/x-python",
   "name": "python",
   "nbconvert_exporter": "python",
   "pygments_lexer": "ipython2",
   "version": "2.7.13"
  }
 },
 "nbformat": 4,
 "nbformat_minor": 2
}
