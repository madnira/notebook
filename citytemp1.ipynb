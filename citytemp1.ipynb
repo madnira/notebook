{
 "cells": [
  {
   "cell_type": "code",
   "execution_count": null,
   "metadata": {},
   "outputs": [],
   "source": [
    "# importing libraries\n",
    "import numpy as np \n",
    "import pandas as pd\n",
    "\n",
    "#read csv file\n",
    "ds = pd.read_csv('city_temperature_new.csv')\n",
    "\n",
    "#geerate ds info\n",
    "ds.info()"
   ]
  },
  {
   "cell_type": "code",
   "execution_count": null,
   "metadata": {},
   "outputs": [],
   "source": [
    "#DS info with Week ,Year , City , Avg Temp\n",
    "ds[['week','Day','Year','City']] [ds['AvgTemperature'] == -99]"
   ]
  },
  {
   "cell_type": "code",
   "execution_count": null,
   "metadata": {},
   "outputs": [],
   "source": [
    "#Run a loop to show selected columns where Avg Temp is -99\n",
    "for i in range(len(ds)):\n",
    "    if ds.iloc[i]['AvgTemperature'] == -99:\n",
    "        print(ds.iloc[i]['week'],'\\t',ds.iloc[i]['Day'],'\\t',ds.iloc[i]['AvgTemperature'],'\\t',ds.iloc[i]['City'],'\\t',ds.iloc[i]['Year'])\n",
    "\n",
    "\n"
   ]
  },
  {
   "cell_type": "code",
   "execution_count": null,
   "metadata": {},
   "outputs": [],
   "source": [
    "#Add a Serial number to the dataframe\n",
    "ds['Serial'] = range(1,len(ds)+1)"
   ]
  },
  {
   "cell_type": "code",
   "execution_count": null,
   "metadata": {},
   "outputs": [],
   "source": [
    "# Create blank column 'Temp' with Dtype as float64\n",
    "ds['Temp'] = 0.0\n",
    "ds.info()\n",
    "ds.head()\n",
    "\n"
   ]
  },
  {
   "cell_type": "code",
   "execution_count": null,
   "metadata": {},
   "outputs": [],
   "source": [
    "#create new csv file from the dataframe\n",
    "ds.to_csv('city_temp_serial.csv',index=False)"
   ]
  },
  {
   "cell_type": "code",
   "execution_count": null,
   "metadata": {},
   "outputs": [],
   "source": [
    "#read csv file\n",
    "ds = pd.read_csv('city_temp_serial.csv')"
   ]
  },
  {
   "cell_type": "code",
   "execution_count": null,
   "metadata": {},
   "outputs": [],
   "source": [
    "#Capture all the serial numbers with -99 Avg Temp\n",
    "serialList = []\n",
    "for i in range(len(ds)):\n",
    "    if ds.iloc[i]['AvgTemperature'] == -99:\n",
    "        #Define a array serialList to add the serial number from above loop\n",
    "        serialList.append(ds.iloc[i]['Serial'])\n",
    "    else:\n",
    "        continue\n",
    "\n",
    "#Get the length of Serialist\n",
    "len(serialList)"
   ]
  },
  {
   "cell_type": "code",
   "execution_count": null,
   "metadata": {},
   "outputs": [],
   "source": [
    "#Run for loop through the serial list to print the AvgTempeature of the previous serial number\n",
    "for i in range(len(serialList)):\n",
    "    print(\"Temp \\t\",ds.iloc[serialList[i]-1]['AvgTemperature'],\"Day \\t\",ds.iloc[serialList[i]-1]['Day'])\n",
    "    print(\"Temp \\t\",ds.iloc[serialList[i]]['AvgTemperature'],\"Day \\t\",ds.iloc[serialList[i]]['Day'])\n",
    "    \n"
   ]
  },
  {
   "cell_type": "code",
   "execution_count": null,
   "metadata": {},
   "outputs": [],
   "source": [
    "#Run loop to replace the AgvTemperature of a serial with -99 with the previous date's AvgTemperature\n",
    "sum_temp = []\n",
    "for i in range(3):\n",
    "    if ds.iloc[serialList[i]]['AvgTemperature'] != -99:\n",
    "        #ds.iloc[serialList[i]]['AvgTemperature'] = ds.iloc[serialList[i]-1]['AvgTemperature']\n",
    "        print(\"Temp \\t\",ds.iloc[serialList[i]-1]['AvgTemperature'],\"Day \\t\",ds.iloc[serialList[i]-1]['Day'],\"City \\t\",ds.iloc[serialList[i]-1]['City'])\n",
    "        print(\"Temp \\t\",ds.iloc[serialList[i]]['AvgTemperature'],\"Day \\t\",ds.iloc[serialList[i]]['Day'],\"City \\t\",ds.iloc[serialList[i]]['City'])\n",
    "        \n",
    "        #sum_temp = sum(ds.iloc[serialList[i]-1]['AvgTemperature'])\n",
    "\n",
    "        \n",
    "        print(\"---------------------------------\")\n",
    "\n"
   ]
  },
  {
   "cell_type": "code",
   "execution_count": null,
   "metadata": {},
   "outputs": [],
   "source": [
    "#mean function for 5 values\n",
    "def mean(x):\n",
    "    return sum(x)/len(x)\n",
    "\n"
   ]
  }
 ],
 "metadata": {
  "interpreter": {
   "hash": "95ec9ec1504d83f612128e0fb229072f90bbb4cb09d9d5d93b5dd26e0ca2cfd1"
  },
  "kernelspec": {
   "display_name": "Python 3.9.4 64-bit ('base': conda)",
   "name": "python3"
  },
  "language_info": {
   "codemirror_mode": {
    "name": "ipython",
    "version": 3
   },
   "file_extension": ".py",
   "mimetype": "text/x-python",
   "name": "python",
   "nbconvert_exporter": "python",
   "pygments_lexer": "ipython3",
   "version": "3.9.4"
  },
  "orig_nbformat": 4
 },
 "nbformat": 4,
 "nbformat_minor": 2
}