{
 "cells": [
  {
   "cell_type": "code",
   "execution_count": 4,
   "metadata": {},
   "outputs": [
    {
     "name": "stdout",
     "output_type": "stream",
     "text": [
      "<class 'pandas.core.frame.DataFrame'>\n",
      "RangeIndex: 1455337 entries, 0 to 1455336\n",
      "Data columns (total 10 columns):\n",
      " #   Column          Non-Null Count    Dtype  \n",
      "---  ------          --------------    -----  \n",
      " 0   Unnamed: 0      1455337 non-null  int64  \n",
      " 1   Region          1455337 non-null  object \n",
      " 2   Country         1455337 non-null  object \n",
      " 3   State           1455337 non-null  object \n",
      " 4   City            1455337 non-null  object \n",
      " 5   Month           1455337 non-null  int64  \n",
      " 6   Day             1455337 non-null  int64  \n",
      " 7   Year            1455337 non-null  int64  \n",
      " 8   AvgTemperature  1455337 non-null  float64\n",
      " 9   week            1455337 non-null  int64  \n",
      "dtypes: float64(1), int64(5), object(4)\n",
      "memory usage: 111.0+ MB\n"
     ]
    }
   ],
   "source": [
    "# importing libraries\n",
    "import numpy as np \n",
    "import pandas as pd\n",
    "\n",
    "#read csv file\n",
    "ds = pd.read_csv('city_temperature_new.csv')\n",
    "\n",
    "#geerate ds info\n",
    "ds.info()"
   ]
  }
 ],
 "metadata": {
  "interpreter": {
   "hash": "95ec9ec1504d83f612128e0fb229072f90bbb4cb09d9d5d93b5dd26e0ca2cfd1"
  },
  "kernelspec": {
   "display_name": "Python 3.9.4 64-bit ('base': conda)",
   "name": "python3"
  },
  "language_info": {
   "codemirror_mode": {
    "name": "ipython",
    "version": 3
   },
   "file_extension": ".py",
   "mimetype": "text/x-python",
   "name": "python",
   "nbconvert_exporter": "python",
   "pygments_lexer": "ipython3",
   "version": "3.9.4"
  },
  "orig_nbformat": 4
 },
 "nbformat": 4,
 "nbformat_minor": 2
}