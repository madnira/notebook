{
 "cells": [
  {
   "cell_type": "code",
   "execution_count": 1,
   "metadata": {},
   "outputs": [],
   "source": [
    "# importing libraries\n",
    "import numpy as np \n",
    "import pandas as pd"
   ]
  },
  {
   "cell_type": "code",
   "execution_count": 3,
   "metadata": {},
   "outputs": [
    {
     "name": "stdout",
     "output_type": "stream",
     "text": [
      "<class 'pandas.core.frame.DataFrame'>\n",
      "RangeIndex: 2906327 entries, 0 to 2906326\n",
      "Data columns (total 8 columns):\n",
      " #   Column          Dtype  \n",
      "---  ------          -----  \n",
      " 0   Region          object \n",
      " 1   Country         object \n",
      " 2   State           object \n",
      " 3   City            object \n",
      " 4   Month           int64  \n",
      " 5   Day             int64  \n",
      " 6   Year            int64  \n",
      " 7   AvgTemperature  float64\n",
      "dtypes: float64(1), int64(3), object(4)\n",
      "memory usage: 177.4+ MB\n",
      "None\n"
     ]
    }
   ],
   "source": [
    "#read csv file\n",
    "df = pd.read_csv('city_temperature.csv')\n",
    "\n",
    "#print dataset info\n",
    "print(df.info())"
   ]
  },
  {
   "cell_type": "code",
   "execution_count": null,
   "metadata": {},
   "outputs": [],
   "source": [
    "#Print different types of countries in dataset\n",
    "print(df['Country'].unique())\n"
   ]
  },
  {
   "cell_type": "code",
   "execution_count": null,
   "metadata": {},
   "outputs": [],
   "source": [
    "#Create new dataset with country US\n",
    "df_us = df[df['Country'] == 'US']\n",
    "\n",
    "#Check for any missing values in df_us\n",
    "print(df_us.isnull().sum())\n"
   ]
  },
  {
   "cell_type": "code",
   "execution_count": null,
   "metadata": {},
   "outputs": [],
   "source": [
    "#Print start year and end year of dataset df_us\n",
    "print(df_us['Year'].min(), df_us['Year'].max())\n",
    "\n",
    "#Print the min, max, mean, and standard deviation of the temp in df_us\n",
    "print(\"Min temp\",df_us['AvgTemperature'].min(),\n",
    "    \"\\nMax Temp\", df_us['AvgTemperature'].max(), \n",
    "    \"\\nAverage Temp\", df_us['AvgTemperature'].mean(), \n",
    "    )\n"
   ]
  },
  {
   "cell_type": "code",
   "execution_count": null,
   "metadata": {},
   "outputs": [],
   "source": [
    "#Get the df_us info pre creation of week\n",
    "print(df_us.info())\n",
    "\n",
    "# Create blank column 'week' with Dtype as int64\n",
    "df_us['week'] = np.int64(0)\n",
    "\n",
    "#Get the df_us infor post creation of week\n",
    "print(df_us.info())\n",
    "\n",
    "#create new df from df_us \n",
    "df_us_new = df_us.copy()"
   ]
  },
  {
   "cell_type": "code",
   "execution_count": null,
   "metadata": {},
   "outputs": [],
   "source": [
    "#For loop to run in every year then every month then every day to get a week number for each day\n",
    "#Add the week number to the df_us_new in the column 'week'\n",
    "import datetime\n",
    "\n",
    "def week_number(day, month, year):\n",
    "    return datetime.date(year, month, day).isocalendar()[1]\n",
    "\n",
    "for i in range(df_us_new['Year'].min(), df_us_new['Year'].max()+1):\n",
    "    for j in range(df_us_new['Month'].min(), df_us_new['Month'].max()+1):\n",
    "        if j == 2:\n",
    "            if i % 4 == 0:\n",
    "                max=29\n",
    "            else:\n",
    "                max=28\n",
    "            for k in range(1, max+1):\n",
    "                df_us_new.loc[(df_us_new['Year'] == i) & (df_us_new['Month'] == j) & (df_us_new['Day'] == k), 'week'] = week_number(k, j, i)\n",
    "        elif j == 1 or j == 3 or j == 5 or j == 7 or j == 8 or j == 10 or j == 12:\n",
    "            for k in range(1, 32):\n",
    "                df_us_new.loc[(df_us_new['Year'] == i) & (df_us_new['Month'] == j) & (df_us_new['Day'] == k), 'week'] = week_number(k, j, i)\n",
    "        else:\n",
    "            for k in range(1, 31):\n",
    "                df_us_new.loc[(df_us_new['Year'] == i) & (df_us_new['Month'] == j) & (df_us_new['Day'] == k), 'week'] = week_number(k, j, i)\n",
    "\n",
    "\n",
    "\n"
   ]
  },
  {
   "cell_type": "code",
   "execution_count": null,
   "metadata": {},
   "outputs": [],
   "source": [
    "#Export df_us_new to csv file\n",
    "df_us_new.to_csv('city_temperature_new.csv')"
   ]
  },
  {
   "cell_type": "code",
   "execution_count": null,
   "metadata": {},
   "outputs": [],
   "source": [
    "#Read \n",
    "df = pd.read_csv('city_temperature_new.csv')\n"
   ]
  },
  {
   "cell_type": "code",
   "execution_count": null,
   "metadata": {},
   "outputs": [],
   "source": [
    "#Store in a DAtaSet Avg Temperature for each week and year when Avg Temperature is -99\n",
    "\n",
    "ds = df[df['AvgTemperature'] == -99][['Year', 'week', 'AvgTemperature']]\n",
    "\n",
    "print(ds)"
   ]
  }
 ],
 "metadata": {
  "interpreter": {
   "hash": "95ec9ec1504d83f612128e0fb229072f90bbb4cb09d9d5d93b5dd26e0ca2cfd1"
  },
  "kernelspec": {
   "display_name": "Python 3.9.4 64-bit ('base': conda)",
   "name": "python3"
  },
  "language_info": {
   "codemirror_mode": {
    "name": "ipython",
    "version": 3
   },
   "file_extension": ".py",
   "mimetype": "text/x-python",
   "name": "python",
   "nbconvert_exporter": "python",
   "pygments_lexer": "ipython3",
   "version": "3.9.4"
  },
  "orig_nbformat": 4
 },
 "nbformat": 4,
 "nbformat_minor": 2
}