{
 "cells": [
  {
   "cell_type": "code",
   "execution_count": null,
   "metadata": {},
   "outputs": [],
   "source": [
    "# importing libraries\n",
    "import numpy as np \n",
    "import pandas as pd"
   ]
  },
  {
   "cell_type": "code",
   "execution_count": null,
   "metadata": {},
   "outputs": [],
   "source": [
    "#read csv file\n",
    "df = pd.read_csv('city_temperature.csv')\n",
    "\n",
    "#print dataset info\n",
    "print(df.info())"
   ]
  },
  {
   "cell_type": "code",
   "execution_count": null,
   "metadata": {},
   "outputs": [],
   "source": [
    "#Print different types of countries in dataset\n",
    "print(df['Country'].unique())\n"
   ]
  },
  {
   "cell_type": "code",
   "execution_count": null,
   "metadata": {},
   "outputs": [],
   "source": [
    "#Create new dataset with country US\n",
    "df_us = df[df['Country'] == 'US']\n",
    "\n",
    "#Check for any missing values in df_us\n",
    "print(df_us.isnull().sum())\n"
   ]
  },
  {
   "cell_type": "code",
   "execution_count": null,
   "metadata": {},
   "outputs": [],
   "source": [
    "#Get the df_us info pre creation of week\n",
    "print(df_us.info())\n",
    "\n",
    "# Create blank column 'week' with Dtype as int64\n",
    "df_us['week'] = np.int64(0)\n",
    "\n",
    "#Get the df_us infor post creation of week\n",
    "print(df_us.info())\n",
    "\n",
    "#create new df from df_us \n",
    "df_us_new = df_us.copy()"
   ]
  },
  {
   "cell_type": "code",
   "execution_count": null,
   "metadata": {},
   "outputs": [],
   "source": [
    "#For loop to run in every year then every month then every day to get a week number for each day\n",
    "#Add the week number to the df_us_new in the column 'week'\n",
    "import datetime\n",
    "\n",
    "def week_number(day, month, year):\n",
    "    return datetime.date(year, month, day).isocalendar()[1]\n",
    "\n",
    "for i in range(df_us_new['Year'].min(), df_us_new['Year'].max()+1):\n",
    "    for j in range(df_us_new['Month'].min(), df_us_new['Month'].max()+1):\n",
    "        if j == 2:\n",
    "            if i % 4 == 0:\n",
    "                max=29\n",
    "            else:\n",
    "                max=28\n",
    "            for k in range(1, max+1):\n",
    "                df_us_new.loc[(df_us_new['Year'] == i) & (df_us_new['Month'] == j) & (df_us_new['Day'] == k), 'week'] = week_number(k, j, i)\n",
    "        elif j == 1 or j == 3 or j == 5 or j == 7 or j == 8 or j == 10 or j == 12:\n",
    "            for k in range(1, 32):\n",
    "                df_us_new.loc[(df_us_new['Year'] == i) & (df_us_new['Month'] == j) & (df_us_new['Day'] == k), 'week'] = week_number(k, j, i)\n",
    "        else:\n",
    "            for k in range(1, 31):\n",
    "                df_us_new.loc[(df_us_new['Year'] == i) & (df_us_new['Month'] == j) & (df_us_new['Day'] == k), 'week'] = week_number(k, j, i)\n",
    "\n",
    "\n",
    "\n"
   ]
  },
  {
   "cell_type": "code",
   "execution_count": null,
   "metadata": {},
   "outputs": [],
   "source": [
    "#Export df_us_new to csv file\n",
    "df_us_new.to_csv('city_temperature_new.csv')"
   ]
  }
 ],
 "metadata": {
  "interpreter": {
   "hash": "95ec9ec1504d83f612128e0fb229072f90bbb4cb09d9d5d93b5dd26e0ca2cfd1"
  },
  "kernelspec": {
   "display_name": "Python 3.9.4 64-bit ('base': conda)",
   "name": "python3"
  },
  "language_info": {
   "name": "python",
   "version": ""
  },
  "orig_nbformat": 4
 },
 "nbformat": 4,
 "nbformat_minor": 2
}