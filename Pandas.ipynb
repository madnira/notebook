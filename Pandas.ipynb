{
  "nbformat": 4,
  "nbformat_minor": 0,
  "metadata": {
    "colab": {
      "name": "Pandas.ipynb",
      "provenance": [],
      "collapsed_sections": [],
      "authorship_tag": "ABX9TyN70K6oknfdbdROc/mH/Fk7",
      "include_colab_link": true
    },
    "kernelspec": {
      "name": "python394jvsc74a57bd095ec9ec1504d83f612128e0fb229072f90bbb4cb09d9d5d93b5dd26e0ca2cfd1",
      "display_name": "Python 3.9.4 64-bit ('base': conda)"
    },
    "language_info": {
      "name": "python",
      "version": "3.9.4"
    }
  },
  "cells": [
    {
      "cell_type": "markdown",
      "metadata": {
        "id": "view-in-github",
        "colab_type": "text"
      },
      "source": [
        "<a href=\"https://colab.research.google.com/github/madnira/notebook/blob/feature%2Fsample/Pandas.ipynb\" target=\"_parent\"><img src=\"https://colab.research.google.com/assets/colab-badge.svg\" alt=\"Open In Colab\"/></a>"
      ]
    },
    {
      "cell_type": "code",
      "metadata": {
        "id": "-eVLgjvM1-gm"
      },
      "source": [
        "# Playing with a Studetnt result data set\n",
        "\n",
        "import pandas as pd\n",
        "pd.Series([1,2,3,4,5])"
      ],
      "execution_count": 1,
      "outputs": [
        {
          "output_type": "execute_result",
          "data": {
            "text/plain": [
              "0    1\n",
              "1    2\n",
              "2    3\n",
              "3    4\n",
              "4    5\n",
              "dtype: int64"
            ]
          },
          "metadata": {},
          "execution_count": 1
        }
      ]
    },
    {
      "cell_type": "code",
      "metadata": {
        "id": "bXwCrO2j2wvC"
      },
      "source": [
        "# Creating the student data frame\n",
        "\n",
        "name = [\"Nasir\", \"Islam\", \"Sujan\", \"Sagor\", \"Jamal\", \"Rony\", \"Rana\", \"Shahin\", \"Jony\", \"Sumon\"]\n",
        "math = [99, 58, 30, 40, 70, 77, 83, 68, 23, 0]\n",
        "english = [78, 67, 34, 33, 32, 21, 45, 89, 95, 10]\n",
        "physics = [20, 50, 55, 43, 78, 87, 46, 98, 69, 35]\n",
        "\n",
        "\n",
        "result = pd.DataFrame({\n",
        "               \"Name\" : name,\n",
        "               \"Math\" : math,\n",
        "               \"English\": english,\n",
        "               \"Physics\" : physics\n",
        "             })\n",
        "\n",
        "result"
      ],
      "execution_count": null,
      "outputs": []
    },
    {
      "cell_type": "code",
      "metadata": {
        "id": "hQJ1auO03QJC"
      },
      "source": [
        "# Playing around with Pandas HEAD / TAIL options\n",
        "\n",
        "print(result.head()) \n",
        "print(result.head(2))\n",
        "\n",
        "print(result.tail())"
      ],
      "execution_count": null,
      "outputs": []
    },
    {
      "cell_type": "code",
      "metadata": {
        "id": "KaYb9vUC3lem"
      },
      "source": [
        "# STATISTICAL interpretation\n",
        "\n",
        "print(result.describe())"
      ],
      "execution_count": null,
      "outputs": []
    },
    {
      "cell_type": "code",
      "metadata": {
        "id": "c3ZVijOn4Dwm"
      },
      "source": [
        "# Other play around options\n",
        "\n",
        "result.rename(columns={\n",
        "      \"Math\": \"Science\", \n",
        "      \"Physics\" : \"Biology\",\n",
        "      \"English\": \"Chemistry\"}, inplace=True)\n",
        "\n",
        "result\n",
        "\n",
        "# Calculations inthe data set\n",
        "\n",
        "print(result[\"Name\"][result[\"Chemistry\"]<33])"
      ],
      "execution_count": null,
      "outputs": []
    },
    {
      "cell_type": "code",
      "metadata": {
        "id": "IjmryqfH9Vex"
      },
      "source": [
        "# Importing student dataset\n",
        "\n",
        "dataset = pd.read_csv(r\"student_result.csv\")\n",
        "print(dataset)"
      ],
      "execution_count": 10,
      "outputs": [
        {
          "output_type": "stream",
          "name": "stdout",
          "text": [
            "    math  bangla  english  result\n0     70      80       90       1\n1     30      40       50       0\n2     50      20       35       0\n3     80      33       33       1\n4     33      35       36       1\n5     32      80       35       0\n6     40      50       21       0\n7     33      35       35       1\n8     60      23       10       0\n9     33      34       35       1\n10    50      40       40       1\n11    35      40       30       0\n12     0       0        0       0\n13    10      10       10       0\n14    33      33       33       1\n"
          ]
        }
      ]
    },
    {
      "cell_type": "code",
      "execution_count": 30,
      "metadata": {},
      "outputs": [
        {
          "output_type": "stream",
          "name": "stdout",
          "text": [
            "Max in Bangla 80\nTotal count of rows for math 15\n"
          ]
        }
      ],
      "source": [
        "# Getting MAX , MIN , AVG and other values from different columns from the dataset\n",
        "\n",
        "print(\"Max in Bangla\",dataset.bangla.max())\n",
        "print(\"Total count of rows for math\",dataset.math.count())\n"
      ]
    },
    {
      "cell_type": "code",
      "execution_count": null,
      "metadata": {},
      "outputs": [],
      "source": []
    }
  ]
}