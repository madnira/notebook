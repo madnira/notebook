{
  "nbformat": 4,
  "nbformat_minor": 0,
  "metadata": {
    "colab": {
      "name": "Pandas.ipynb",
      "provenance": [],
      "collapsed_sections": [],
      "authorship_tag": "ABX9TyN70K6oknfdbdROc/mH/Fk7",
      "include_colab_link": true
    },
    "kernelspec": {
      "name": "python3",
      "display_name": "Python 3"
    },
    "language_info": {
      "name": "python"
    }
  },
  "cells": [
    {
      "cell_type": "markdown",
      "metadata": {
        "id": "view-in-github",
        "colab_type": "text"
      },
      "source": [
        "<a href=\"https://colab.research.google.com/github/madnira/notebook/blob/feature%2Fsample/Pandas.ipynb\" target=\"_parent\"><img src=\"https://colab.research.google.com/assets/colab-badge.svg\" alt=\"Open In Colab\"/></a>"
      ]
    },
    {
      "cell_type": "code",
      "metadata": {
        "id": "-eVLgjvM1-gm"
      },
      "source": [
        "# Playing with a Studetnt result data set\n",
        "\n",
        "import pandas as pd\n",
        "pd.Series([1,2,3,4,5])"
      ],
      "execution_count": null,
      "outputs": []
    },
    {
      "cell_type": "code",
      "metadata": {
        "id": "bXwCrO2j2wvC"
      },
      "source": [
        "# Creating the student data frame\n",
        "\n",
        "name = [\"Nasir\", \"Islam\", \"Sujan\", \"Sagor\", \"Jamal\", \"Rony\", \"Rana\", \"Shahin\", \"Jony\", \"Sumon\"]\n",
        "math = [99, 58, 30, 40, 70, 77, 83, 68, 23, 0]\n",
        "english = [78, 67, 34, 33, 32, 21, 45, 89, 95, 10]\n",
        "physics = [20, 50, 55, 43, 78, 87, 46, 98, 69, 35]\n",
        "\n",
        "\n",
        "result = pd.DataFrame({\n",
        "               \"Name\" : name,\n",
        "               \"Math\" : math,\n",
        "               \"English\": english,\n",
        "               \"Physics\" : physics\n",
        "             })\n",
        "\n",
        "result"
      ],
      "execution_count": null,
      "outputs": []
    },
    {
      "cell_type": "code",
      "metadata": {
        "id": "hQJ1auO03QJC"
      },
      "source": [
        "# Playing around with Pandas HEAD / TAIL options\n",
        "\n",
        "print(result.head()) \n",
        "print(result.head(2))\n",
        "\n",
        "print(result.tail())"
      ],
      "execution_count": null,
      "outputs": []
    },
    {
      "cell_type": "code",
      "metadata": {
        "id": "KaYb9vUC3lem"
      },
      "source": [
        "# STATISTICAL interpretation\n",
        "\n",
        "print(result.describe())"
      ],
      "execution_count": null,
      "outputs": []
    },
    {
      "cell_type": "code",
      "metadata": {
        "id": "c3ZVijOn4Dwm"
      },
      "source": [
        "# Other play around options\n",
        "\n",
        "result.rename(columns={\n",
        "      \"Math\": \"Science\", \n",
        "      \"Physics\" : \"Biology\",\n",
        "      \"English\": \"Chemistry\"}, inplace=True)\n",
        "\n",
        "result\n",
        "\n",
        "# Calculations inthe data set\n",
        "\n",
        "print(result[\"Name\"][result[\"Chemistry\"]<33])"
      ],
      "execution_count": null,
      "outputs": []
    },
    {
      "cell_type": "code",
      "metadata": {
        "id": "IjmryqfH9Vex"
      },
      "source": [
        "# Importing student dataset\n",
        "\n",
        "dataset = pd.read_csv(r\"/home/arin/datatset/student_result.csv\")\n",
        "print(dataset.head())"
      ],
      "execution_count": null,
      "outputs": []
    }
  ]
}