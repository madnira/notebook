{
  "cells": [
    {
      "cell_type": "markdown",
      "metadata": {
        "colab_type": "text",
        "id": "view-in-github"
      },
      "source": [
        "<a href=\"https://colab.research.google.com/github/madnira/notebook/blob/feature%2Fsample/Pandas.ipynb\" target=\"_parent\"><img src=\"https://colab.research.google.com/assets/colab-badge.svg\" alt=\"Open In Colab\"/></a>"
      ]
    },
    {
      "cell_type": "code",
      "execution_count": null,
      "metadata": {
        "id": "-eVLgjvM1-gm"
      },
      "outputs": [],
      "source": [
        "# Playing with a Studetnt result data set\n",
        "\n",
        "import pandas as pd\n",
        "pd.Series([1,2,3,4,5])"
      ]
    },
    {
      "cell_type": "code",
      "execution_count": null,
      "metadata": {
        "id": "bXwCrO2j2wvC"
      },
      "outputs": [],
      "source": [
        "# Creating the student data frame\n",
        "\n",
        "name = [\"Nasir\", \"Islam\", \"Sujan\", \"Sagor\", \"Jamal\", \"Rony\", \"Rana\", \"Shahin\", \"Jony\", \"Sumon\"]\n",
        "math = [99, 58, 30, 40, 70, 77, 83, 68, 23, 0]\n",
        "english = [78, 67, 34, 33, 32, 21, 45, 89, 95, 10]\n",
        "physics = [20, 50, 55, 43, 78, 87, 46, 98, 69, 35]\n",
        "\n",
        "\n",
        "result = pd.DataFrame({\n",
        "               \"Name\" : name,\n",
        "               \"Math\" : math,\n",
        "               \"English\": english,\n",
        "               \"Physics\" : physics\n",
        "             })\n",
        "\n",
        "result"
      ]
    },
    {
      "cell_type": "code",
      "execution_count": null,
      "metadata": {
        "id": "hQJ1auO03QJC"
      },
      "outputs": [],
      "source": [
        "# Playing around with Pandas HEAD / TAIL options\n",
        "\n",
        "print(result.head()) \n",
        "print(result.head(2))\n",
        "\n",
        "print(result.tail())"
      ]
    },
    {
      "cell_type": "code",
      "execution_count": null,
      "metadata": {
        "id": "KaYb9vUC3lem"
      },
      "outputs": [],
      "source": [
        "# STATISTICAL interpretation\n",
        "\n",
        "print(result.describe())"
      ]
    },
    {
      "cell_type": "code",
      "execution_count": null,
      "metadata": {
        "id": "c3ZVijOn4Dwm"
      },
      "outputs": [],
      "source": [
        "# Other play around options\n",
        "\n",
        "result.rename(columns={\n",
        "      \"Math\": \"Science\", \n",
        "      \"Physics\" : \"Biology\",\n",
        "      \"English\": \"Chemistry\"}, inplace=True)\n",
        "\n",
        "result\n",
        "\n",
        "# Calculations inthe data set\n",
        "\n",
        "print(result[\"Name\"][result[\"Chemistry\"]<33])"
      ]
    },
    {
      "cell_type": "code",
      "execution_count": null,
      "metadata": {
        "id": "IjmryqfH9Vex"
      },
      "outputs": [],
      "source": [
        "# Importing student dataset\n",
        "\n",
        "dataset = pd.read_csv(r\"student_result.csv\")\n",
        "print(dataset.head())"
      ]
    },
    {
      "cell_type": "code",
      "execution_count": null,
      "metadata": {},
      "outputs": [],
      "source": [
        "# Getting MAX , MIN , AVG and other values from different columns from the dataset\n",
        "\n",
        "print(\"Max in Math, Bangla, english \",dataset.math.max(), dataset.bangla.max(), dataset.english.max())\n",
        "print(\"Min in English\",dataset.english.min())\n",
        "print(\"Total count of rows for math\",dataset.math.count())\n",
        "\n",
        "print (\"Average socre in Maths\",dataset.math.mean())\n",
        "print (dataset.loc[dataset['bangla'].idxmin()])\n"
      ]
    },
    {
      "cell_type": "code",
      "execution_count": null,
      "metadata": {},
      "outputs": [],
      "source": [
        "#Print the column1 with a condition on column 2\n",
        "print(dataset['name'][dataset['math']>50])\n",
        "\n",
        "#Print col1 & col2 with a conditin on col3\n",
        "print (dataset[['name','math']][dataset['math']>50])"
      ]
    },
    {
      "cell_type": "code",
      "execution_count": null,
      "metadata": {},
      "outputs": [],
      "source": [
        "# Print all rows with a condition in a col\n",
        "#print (dataset[:][dataset['bangla']<30])\n",
        "\n",
        "# Print all rows with a col value - NULL\n",
        "print (dataset[:][dataset['result'].isnull()])"
      ]
    },
    {
      "cell_type": "code",
      "execution_count": null,
      "metadata": {},
      "outputs": [],
      "source": [
        "# Setting 1 column as index for all rows\n",
        "dataset.set_index('name')\n",
        "# Dropping the index from the dataset\n",
        "dataset.reset_index(drop=True)"
      ]
    },
    {
      "cell_type": "code",
      "execution_count": null,
      "metadata": {},
      "outputs": [],
      "source": [
        "dataset.sum()"
      ]
    },
    {
      "cell_type": "code",
      "execution_count": null,
      "metadata": {},
      "outputs": [],
      "source": [
        "#Calculate week number from the date\n",
        "input_date = pd.to_datetime('2017-08-01')\n",
        "\n",
        "def week_number(input_date):\n",
        "    return input_date.isocalendar()[1]\n",
        "\n",
        "print(week_number(input_date))\n"
      ]
    },
    {
      "cell_type": "code",
      "execution_count": null,
      "metadata": {},
      "outputs": [],
      "source": [
        "#Take input from the user for date, month and year\n",
        "#Function to calculate week number\n",
        "#Exception handling for invalid date\n",
        "import datetime\n",
        "\n",
        "print(\"Enter the day\")\n",
        "d = int(input())\n",
        "print(\"Enter the month\")\n",
        "m = int(input())\n",
        "print(\"Enter the year\")\n",
        "y = int(input())\n",
        "\n",
        "def week_number(d,m,y):\n",
        "    try:\n",
        "        input_date = datetime.date(y,m,d)\n",
        "    except ValueError:\n",
        "        print(\"Invalid date\")\n",
        "    else:\n",
        "        return input_date.isocalendar()[1]\n",
        "\n",
        "print(week_number(d, m, y))"
      ]
    }
  ],
  "metadata": {
    "colab": {
      "authorship_tag": "ABX9TyN70K6oknfdbdROc/mH/Fk7",
      "collapsed_sections": [],
      "include_colab_link": true,
      "name": "Pandas.ipynb",
      "provenance": []
    },
    "kernelspec": {
      "display_name": "Python 3.9.4 64-bit ('base': conda)",
      "name": "python394jvsc74a57bd095ec9ec1504d83f612128e0fb229072f90bbb4cb09d9d5d93b5dd26e0ca2cfd1"
    },
    "language_info": {
      "name": "python",
      "version": "3.9.4"
    }
  },
  "nbformat": 4,
  "nbformat_minor": 0
}