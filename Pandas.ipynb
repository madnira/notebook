{
  "nbformat": 4,
  "nbformat_minor": 0,
  "metadata": {
    "colab": {
      "name": "Pandas.ipynb",
      "provenance": [],
      "collapsed_sections": [],
      "authorship_tag": "ABX9TyN70K6oknfdbdROc/mH/Fk7",
      "include_colab_link": true
    },
    "kernelspec": {
      "name": "python394jvsc74a57bd095ec9ec1504d83f612128e0fb229072f90bbb4cb09d9d5d93b5dd26e0ca2cfd1",
      "display_name": "Python 3.9.4 64-bit ('base': conda)"
    },
    "language_info": {
      "name": "python",
      "version": "3.9.4"
    }
  },
  "cells": [
    {
      "cell_type": "markdown",
      "metadata": {
        "id": "view-in-github",
        "colab_type": "text"
      },
      "source": [
        "<a href=\"https://colab.research.google.com/github/madnira/notebook/blob/feature%2Fsample/Pandas.ipynb\" target=\"_parent\"><img src=\"https://colab.research.google.com/assets/colab-badge.svg\" alt=\"Open In Colab\"/></a>"
      ]
    },
    {
      "cell_type": "code",
      "metadata": {
        "id": "-eVLgjvM1-gm"
      },
      "source": [
        "# Playing with a Studetnt result data set\n",
        "\n",
        "import pandas as pd\n",
        "pd.Series([1,2,3,4,5])"
      ],
      "execution_count": null,
      "outputs": []
    },
    {
      "cell_type": "code",
      "metadata": {
        "id": "bXwCrO2j2wvC"
      },
      "source": [
        "# Creating the student data frame\n",
        "\n",
        "name = [\"Nasir\", \"Islam\", \"Sujan\", \"Sagor\", \"Jamal\", \"Rony\", \"Rana\", \"Shahin\", \"Jony\", \"Sumon\"]\n",
        "math = [99, 58, 30, 40, 70, 77, 83, 68, 23, 0]\n",
        "english = [78, 67, 34, 33, 32, 21, 45, 89, 95, 10]\n",
        "physics = [20, 50, 55, 43, 78, 87, 46, 98, 69, 35]\n",
        "\n",
        "\n",
        "result = pd.DataFrame({\n",
        "               \"Name\" : name,\n",
        "               \"Math\" : math,\n",
        "               \"English\": english,\n",
        "               \"Physics\" : physics\n",
        "             })\n",
        "\n",
        "result"
      ],
      "execution_count": null,
      "outputs": []
    },
    {
      "cell_type": "code",
      "metadata": {
        "id": "hQJ1auO03QJC"
      },
      "source": [
        "# Playing around with Pandas HEAD / TAIL options\n",
        "\n",
        "print(result.head()) \n",
        "print(result.head(2))\n",
        "\n",
        "print(result.tail())"
      ],
      "execution_count": null,
      "outputs": []
    },
    {
      "cell_type": "code",
      "metadata": {
        "id": "KaYb9vUC3lem"
      },
      "source": [
        "# STATISTICAL interpretation\n",
        "\n",
        "print(result.describe())"
      ],
      "execution_count": null,
      "outputs": []
    },
    {
      "cell_type": "code",
      "metadata": {
        "id": "c3ZVijOn4Dwm"
      },
      "source": [
        "# Other play around options\n",
        "\n",
        "result.rename(columns={\n",
        "      \"Math\": \"Science\", \n",
        "      \"Physics\" : \"Biology\",\n",
        "      \"English\": \"Chemistry\"}, inplace=True)\n",
        "\n",
        "result\n",
        "\n",
        "# Calculations inthe data set\n",
        "\n",
        "print(result[\"Name\"][result[\"Chemistry\"]<33])"
      ],
      "execution_count": null,
      "outputs": []
    },
    {
      "cell_type": "code",
      "metadata": {
        "id": "IjmryqfH9Vex"
      },
      "source": [
        "# Importing student dataset\n",
        "\n",
        "dataset = pd.read_csv(r\"student_result.csv\")\n",
        "print(dataset.head())"
      ],
      "execution_count": null,
      "outputs": []
    },
    {
      "cell_type": "code",
      "execution_count": null,
      "metadata": {},
      "outputs": [],
      "source": [
        "# Getting MAX , MIN , AVG and other values from different columns from the dataset\n",
        "\n",
        "print(\"Max in Math, Bangla, english \",dataset.math.max(), dataset.bangla.max(), dataset.english.max())\n",
        "print(\"Min in English\",dataset.english.min())\n",
        "print(\"Total count of rows for math\",dataset.math.count())\n",
        "\n",
        "print (\"Average socre in Maths\",dataset.math.mean())\n",
        "print (dataset.loc[dataset['bangla'].idxmin()])\n"
      ]
    },
    {
      "cell_type": "code",
      "execution_count": null,
      "metadata": {},
      "outputs": [],
      "source": [
        "#Print the column1 with a condition on column 2\n",
        "print(dataset['name'][dataset['math']>50])\n",
        "\n",
        "#Print col1 & col2 with a conditin on col3\n",
        "print (dataset[['name','math']][dataset['math']>50])"
      ]
    },
    {
      "cell_type": "code",
      "execution_count": null,
      "metadata": {},
      "outputs": [],
      "source": [
        "# Print all rows with a condition in a col\n",
        "#print (dataset[:][dataset['bangla']<30])\n",
        "\n",
        "# Print all rows with a col value - NULL\n",
        "print (dataset[:][dataset['result'].isnull()])"
      ]
    },
    {
      "cell_type": "code",
      "execution_count": null,
      "metadata": {},
      "outputs": [],
      "source": [
        "# Setting 1 column as index for all rows\n",
        "dataset.set_index('name')\n",
        "# Dropping the index from the dataset\n",
        "dataset.reset_index(drop=True)"
      ]
    },
    {
      "cell_type": "code",
      "execution_count": null,
      "metadata": {},
      "outputs": [],
      "source": [
        "dataset.sum()"
      ]
    },
    {
      "cell_type": "code",
      "execution_count": null,
      "metadata": {},
      "outputs": [],
      "source": []
    }
  ]
}