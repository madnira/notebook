{
  "nbformat": 4,
  "nbformat_minor": 0,
  "metadata": {
    "colab": {
      "name": "python_snippets.ipynb",
      "provenance": [],
      "collapsed_sections": [],
      "authorship_tag": "ABX9TyOjjy+8huElvG7G/GF6JF4S",
      "include_colab_link": true
    },
    "kernelspec": {
      "name": "python3",
      "display_name": "Python 3"
    },
    "language_info": {
      "name": "python"
    }
  },
  "cells": [
    {
      "cell_type": "markdown",
      "metadata": {
        "id": "view-in-github",
        "colab_type": "text"
      },
      "source": [
        "<a href=\"https://colab.research.google.com/github/madnira/notebook/blob/feature%2Fsample/python_snippets.ipynb\" target=\"_parent\"><img src=\"https://colab.research.google.com/assets/colab-badge.svg\" alt=\"Open In Colab\"/></a>"
      ]
    },
    {
      "cell_type": "markdown",
      "metadata": {
        "id": "pEqmGWa5bM_L"
      },
      "source": [
        "Python Sample codes"
      ]
    },
    {
      "cell_type": "code",
      "metadata": {
        "id": "93NRBveObKUQ"
      },
      "source": [
        "# Indexing\n",
        "x = [3, \"hello\", 1.2 , \"bye\", 25]\n",
        "print (\"x[0]: \", x[0])\n",
        "print (\"x[1]: \", x[1])\n",
        "print (\"x[-1]: \", x[-1]) # the last item\n",
        "print (\"x[-2]: \", x[-2]) # the second to last item"
      ],
      "execution_count": null,
      "outputs": []
    },
    {
      "cell_type": "code",
      "metadata": {
        "id": "yEv87ZqAbfxj"
      },
      "source": [
        "# Slicing\n",
        "print (\"x[:]: \", x[:]) # all indices\n",
        "print (\"x[1:]: \", x[1:]) # index 1 to the end of the list\n",
        "print (\"x[1:3]: \", x[1:3]) # index 1 to index 2 (not including index 2)\n",
        "print (\"x[:-1]: \", x[:-1]) # index 0 to last index (not including last index)"
      ],
      "execution_count": null,
      "outputs": []
    },
    {
      "cell_type": "code",
      "metadata": {
        "id": "tsrEyUcyvCrU"
      },
      "source": [
        "#TUPLE starts and end with () not [] like arrays\n",
        "\n",
        "# Creating a tuple\n",
        "x = (3.0, \"hello\") # tuples start and end with ()\n",
        "print (x)\n",
        "\n",
        "#Addition to tuple is possible\n",
        "x = x + (5.6, 4)\n",
        "print (x)\n",
        "\n",
        "# Try to change (it won't work and you'll get an error)\n",
        "x[0] = 1.2"
      ],
      "execution_count": null,
      "outputs": []
    },
    {
      "cell_type": "code",
      "metadata": {
        "id": "oXdzSy2QwQWU"
      },
      "source": [
        "# Creating a dictionary\n",
        "person = {'name': 'Goku',\n",
        "          'eye_color': 'brown'}\n",
        "print (person)\n",
        "print (person['name'])\n",
        "print (person['eye_color'])"
      ],
      "execution_count": null,
      "outputs": []
    },
    {
      "cell_type": "code",
      "metadata": {
        "id": "77b8RJ_Awm-r"
      },
      "source": [
        "# If statement\n",
        "x = 4\n",
        "if x < 1:\n",
        "    score = 'low'\n",
        "elif x <= 4: # elif = else if\n",
        "    score = 'medium'\n",
        "else:\n",
        "    score = 'high'\n",
        "print (score)"
      ],
      "execution_count": null,
      "outputs": []
    },
    {
      "cell_type": "code",
      "metadata": {
        "id": "6EmM_gWuw_We"
      },
      "source": [
        "# Define the function\n",
        "def add_two(x):\n",
        "    \"\"\"Increase x by 2.\"\"\"\n",
        "    x += 2\n",
        "    return x\n",
        "\n",
        "# While loop\n",
        "x = 3\n",
        "while x > 0:\n",
        "    x -= 1 # same as x = x - 1\n",
        "    print (x)\n",
        "\n",
        "# Use the function\n",
        "score = 2\n",
        "new_score = add_two(x=score)\n",
        "print (\"Score = \", score)\n",
        "print (\"New Socre = \",new_score)"
      ],
      "execution_count": null,
      "outputs": []
    },
    {
      "cell_type": "code",
      "metadata": {
        "id": "OKzU6xN-x0BA"
      },
      "source": [
        "#Combining While & Functions together\n",
        "\n",
        "def add_two(z):\n",
        "    \"\"\"Increase x by 2.\"\"\"\n",
        "    z += 2\n",
        "    return z\n",
        "\n",
        "# While loop for increment till 10\n",
        "x = 0\n",
        "while x < 10:\n",
        "    x = x + 1\n",
        "    #print (x)\n",
        "    new_number = add_two(z=x)\n",
        "    print (\"Value of x =\", x)\n",
        "    print (\"Value of x after calling function =\", new_number)"
      ],
      "execution_count": null,
      "outputs": []
    },
    {
      "cell_type": "code",
      "metadata": {
        "id": "7oskAeu00yf_"
      },
      "source": [
        "#Adding strings\n",
        "\n",
        "f_name = \"Alok\"\n",
        "l_name = \"Singh\"\n",
        "j_name = f_name + l_name\n",
        "\n",
        "print (j_name)\n",
        "\n",
        "# Adding string with a function\n",
        "\n",
        "def add_names(first_name, last_name):\n",
        "  name1 = first_name\n",
        "  name2 = last_name\n",
        "\n",
        "  joint_name = name1 +\" \"+ name2\n",
        "  return joint_name\n",
        "\n",
        "# Calling function\n",
        "\n",
        "final_name = add_names(first_name=f_name, last_name=l_name)\n",
        "\n",
        "print (\"Final Name = \", final_name)"
      ],
      "execution_count": null,
      "outputs": []
    }
  ]
}