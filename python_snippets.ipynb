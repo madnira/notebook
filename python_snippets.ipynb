{
  "cells": [
    {
      "cell_type": "markdown",
      "metadata": {
        "colab_type": "text",
        "id": "view-in-github"
      },
      "source": [
        "<a href=\"https://colab.research.google.com/github/madnira/notebook/blob/feature%2Fsample/python_snippets.ipynb\" target=\"_parent\"><img src=\"https://colab.research.google.com/assets/colab-badge.svg\" alt=\"Open In Colab\"/></a>"
      ]
    },
    {
      "cell_type": "markdown",
      "metadata": {
        "id": "pEqmGWa5bM_L"
      },
      "source": [
        "Python Sample codes"
      ]
    },
    {
      "cell_type": "code",
      "execution_count": null,
      "metadata": {
        "id": "93NRBveObKUQ"
      },
      "outputs": [],
      "source": [
        "# Indexing\n",
        "x = [3, \"hello\", 1.2 , \"bye\", 25]\n",
        "print (\"x[0]: \", x[0])\n",
        "print (\"x[1]: \", x[1])\n",
        "print (\"x[-1]: \", x[-1]) # the last item\n",
        "print (\"x[-2]: \", x[-2]) # the second to last item"
      ]
    },
    {
      "cell_type": "code",
      "execution_count": null,
      "metadata": {
        "id": "yEv87ZqAbfxj"
      },
      "outputs": [],
      "source": [
        "# Slicing\n",
        "print (\"x[:]: \", x[:]) # all indices\n",
        "print (\"x[1:]: \", x[1:]) # index 1 to the end of the list\n",
        "print (\"x[1:3]: \", x[1:3]) # index 1 to index 2 (not including index 2)\n",
        "print (\"x[:-1]: \", x[:-1]) # index 0 to last index (not including last index)"
      ]
    },
    {
      "cell_type": "code",
      "execution_count": null,
      "metadata": {
        "id": "tsrEyUcyvCrU"
      },
      "outputs": [],
      "source": [
        "#TUPLE starts and end with () not [] like arrays\n",
        "\n",
        "# Creating a tuple\n",
        "x = (3.0, \"hello\") # tuples start and end with ()\n",
        "print (x)\n",
        "\n",
        "#Addition to tuple is possible\n",
        "x = x + (5.6, 4)\n",
        "print (x)\n",
        "\n",
        "# Try to change (it won't work and you'll get an error)\n",
        "x[0] = 1.2"
      ]
    },
    {
      "cell_type": "code",
      "execution_count": null,
      "metadata": {
        "id": "oXdzSy2QwQWU"
      },
      "outputs": [],
      "source": [
        "# Creating a dictionary\n",
        "person = {'name': 'Goku',\n",
        "          'eye_color': 'brown'}\n",
        "print (person)\n",
        "print (person['name'])\n",
        "print (person['eye_color'])"
      ]
    },
    {
      "cell_type": "code",
      "execution_count": null,
      "metadata": {
        "id": "77b8RJ_Awm-r"
      },
      "outputs": [],
      "source": [
        "# If statement\n",
        "x = 4\n",
        "if x < 1:\n",
        "    score = 'low'\n",
        "elif x <= 4: # elif = else if\n",
        "    score = 'medium'\n",
        "else:\n",
        "    score = 'high'\n",
        "print (score)"
      ]
    },
    {
      "cell_type": "code",
      "execution_count": null,
      "metadata": {
        "id": "6EmM_gWuw_We"
      },
      "outputs": [],
      "source": [
        "# Define the function\n",
        "def add_two(x):\n",
        "    \"\"\"Increase x by 2.\"\"\"\n",
        "    x += 2\n",
        "    return x\n",
        "\n",
        "# While loop\n",
        "x = 3\n",
        "while x > 0:\n",
        "    x -= 1 # same as x = x - 1\n",
        "    print (x)\n",
        "\n",
        "# Use the function\n",
        "score = 2\n",
        "new_score = add_two(x=score)\n",
        "print (\"Score = \", score)\n",
        "print (\"New Socre = \",new_score)"
      ]
    },
    {
      "cell_type": "code",
      "execution_count": null,
      "metadata": {
        "id": "OKzU6xN-x0BA"
      },
      "outputs": [],
      "source": [
        "#Combining While & Functions together\n",
        "\n",
        "def add_two(z):\n",
        "    \"\"\"Increase x by 2.\"\"\"\n",
        "    z += 2\n",
        "    return z\n",
        "\n",
        "# While loop for increment till 10\n",
        "x = 0\n",
        "while x < 10:\n",
        "    x = x + 1\n",
        "    #print (x)\n",
        "    new_number = add_two(z=x)\n",
        "    print (\"Value of x =\", x)\n",
        "    print (\"Value of x after calling function =\", new_number)"
      ]
    },
    {
      "cell_type": "code",
      "execution_count": null,
      "metadata": {
        "id": "7oskAeu00yf_"
      },
      "outputs": [],
      "source": [
        "#Adding strings\n",
        "\n",
        "f_name = \"Alok\"\n",
        "l_name = \"Singh\"\n",
        "j_name = f_name + l_name\n",
        "\n",
        "print (j_name)\n",
        "\n",
        "# Adding string with a function\n",
        "\n",
        "def add_names(first_name, last_name):\n",
        "  name1 = first_name\n",
        "  name2 = last_name\n",
        "\n",
        "  joint_name = name1 +\" \"+ name2\n",
        "  return joint_name\n",
        "\n",
        "# Calling function\n",
        "\n",
        "final_name = add_names(first_name=f_name, last_name=l_name)\n",
        "\n",
        "print (\"Final Name = \", final_name)"
      ]
    },
    {
      "cell_type": "code",
      "execution_count": 2,
      "metadata": {},
      "outputs": [
        {
          "name": "stdout",
          "output_type": "stream",
          "text": [
            "Enter a number: \n",
            "The type of number is:  <class 'int'>\n",
            "The type of converted number is:  <class 'str'>\n",
            "The number entered is:  4\n",
            "The number entered added with itself is:  8\n",
            "Enter a string: \n",
            "The string entered is:  Hello\n",
            "The string entered added with the converted number is:  Hello4\n"
          ]
        }
      ],
      "source": [
        "#Convert a number to a string\n",
        "\n",
        "def convert_to_string(number):\n",
        "  string_number = str(number)\n",
        "  return string_number\n",
        "\n",
        "#calling function with number from user input\n",
        "print (\"Enter a number: \")\n",
        "number = int(input())\n",
        "converted_number = convert_to_string(number)\n",
        "\n",
        "#Show the date type of number\n",
        "print (\"The type of number is: \", type(number))\n",
        "print (\"The type of converted number is: \", type(converted_number))\n",
        "\n",
        "#Add the number with itself and print the output\n",
        "print (\"The number entered is: \", number)\n",
        "print (\"The number entered added with itself is: \", number + number)\n",
        "\n",
        "#Take strign input from the user\n",
        "print (\"Enter a string: \")\n",
        "string = input()\n",
        "\n",
        "#Add the string with the converted number\n",
        "print (\"The string entered is: \", string)\n",
        "print (\"The string entered added with the converted number is: \", string + converted_number)\n"
      ]
    }
  ],
  "metadata": {
    "colab": {
      "authorship_tag": "ABX9TyOjjy+8huElvG7G/GF6JF4S",
      "collapsed_sections": [],
      "include_colab_link": true,
      "name": "python_snippets.ipynb",
      "provenance": []
    },
    "interpreter": {
      "hash": "95ec9ec1504d83f612128e0fb229072f90bbb4cb09d9d5d93b5dd26e0ca2cfd1"
    },
    "kernelspec": {
      "display_name": "Python 3.9.4 64-bit ('base': conda)",
      "name": "python3"
    },
    "language_info": {
      "codemirror_mode": {
        "name": "ipython",
        "version": 3
      },
      "file_extension": ".py",
      "mimetype": "text/x-python",
      "name": "python",
      "nbconvert_exporter": "python",
      "pygments_lexer": "ipython3",
      "version": "3.9.4"
    }
  },
  "nbformat": 4,
  "nbformat_minor": 0
}