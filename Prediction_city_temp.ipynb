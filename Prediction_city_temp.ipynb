{
 "cells": [
  {
   "cell_type": "code",
   "execution_count": null,
   "metadata": {},
   "outputs": [],
   "source": [
    "#Read city_temp_serial.csv file\n",
    "import pandas as pd\n",
    "import numpy as np\n",
    "import math\n",
    "from sklearn.preprocessing import MinMaxScaler\n",
    "from sklearn.metrics import mean_squared_error\n",
    "from sklearn.model_selection import train_test_split\n",
    "from sklearn.linear_model import LinearRegression\n",
    "\n",
    "ds = pd.read_csv('city_temp_serial.csv')\n"
   ]
  },
  {
   "cell_type": "code",
   "execution_count": null,
   "metadata": {},
   "outputs": [],
   "source": [
    "#Get ds info and header\n",
    "ds.info()\n",
    "ds.head()"
   ]
  },
  {
   "cell_type": "code",
   "execution_count": null,
   "metadata": {},
   "outputs": [],
   "source": [
    "#Create a new dataset with only the columns we need\n",
    "# Serial,  City , Month,Year,  AvgTemperature\n",
    "ds_new = ds[['Serial','City','Month','Year','AvgTemperature']]\n",
    "\n",
    "ds_new.head()"
   ]
  },
  {
   "cell_type": "code",
   "execution_count": null,
   "metadata": {},
   "outputs": [],
   "source": [
    "#Remove rows with AvgTemperature = -99\n",
    "ds_new = ds_new[ds_new['AvgTemperature'] != -99]"
   ]
  },
  {
   "cell_type": "code",
   "execution_count": null,
   "metadata": {},
   "outputs": [],
   "source": [
    "#Check if any row have AvgTemperature = -99\n",
    "ds_new[ds_new['AvgTemperature'] == -99]"
   ]
  },
  {
   "cell_type": "code",
   "execution_count": null,
   "metadata": {},
   "outputs": [],
   "source": [
    "#Create ds for City = Birmingham\n",
    "ds_new_Birmingham = ds_new[ds_new['City'] == 'Birmingham']\n",
    "\n",
    "#Check all rows if any city is not Birmingham\n",
    "ds_new_Birmingham[ds_new_Birmingham['City'] != 'Birmingham']"
   ]
  },
  {
   "cell_type": "code",
   "execution_count": 24,
   "metadata": {},
   "outputs": [
    {
     "name": "stdout",
     "output_type": "stream",
     "text": [
      "January\n",
      "804\n",
      "February\n",
      "735\n",
      "March\n",
      "804\n",
      "April\n",
      "779\n",
      "May\n",
      "788\n",
      "June\n",
      "746\n",
      "July\n",
      "775\n",
      "August\n",
      "773\n",
      "September\n",
      "749\n",
      "October\n",
      "775\n",
      "November\n",
      "750\n",
      "December\n",
      "772\n"
     ]
    }
   ],
   "source": [
    "#Run a loop to count number of rows where Month = 1 only\n",
    "for i in range(1,13):\n",
    "    if i==1:\n",
    "        print(\"January\")\n",
    "    elif i==2:\n",
    "        print(\"February\")\n",
    "    elif i==3:\n",
    "        print(\"March\")\n",
    "    elif i==4:\n",
    "        print(\"April\")\n",
    "    elif i==5:\n",
    "        print(\"May\")\n",
    "    elif i==6:\n",
    "        print(\"June\")\n",
    "    elif i==7:\n",
    "        print(\"July\")\n",
    "    elif i==8:\n",
    "        print(\"August\")\n",
    "    elif i==9:\n",
    "        print(\"September\")\n",
    "    elif i==10:\n",
    "        print(\"October\")\n",
    "    elif i==11:\n",
    "        print(\"November\")\n",
    "    elif i==12:\n",
    "        print(\"December\")\n",
    "\n",
    "    print(ds_new_Birmingham[ds_new_Birmingham['Month'] == i].shape[0])\n",
    "\n",
    "\n"
   ]
  },
  {
   "cell_type": "code",
   "execution_count": 25,
   "metadata": {},
   "outputs": [
    {
     "data": {
      "text/html": [
       "<div>\n",
       "<style scoped>\n",
       "    .dataframe tbody tr th:only-of-type {\n",
       "        vertical-align: middle;\n",
       "    }\n",
       "\n",
       "    .dataframe tbody tr th {\n",
       "        vertical-align: top;\n",
       "    }\n",
       "\n",
       "    .dataframe thead th {\n",
       "        text-align: right;\n",
       "    }\n",
       "</style>\n",
       "<table border=\"1\" class=\"dataframe\">\n",
       "  <thead>\n",
       "    <tr style=\"text-align: right;\">\n",
       "      <th></th>\n",
       "      <th>Serial</th>\n",
       "      <th>City</th>\n",
       "      <th>Month</th>\n",
       "      <th>Year</th>\n",
       "      <th>AvgTemperature</th>\n",
       "    </tr>\n",
       "  </thead>\n",
       "  <tbody>\n",
       "  </tbody>\n",
       "</table>\n",
       "</div>"
      ],
      "text/plain": [
       "Empty DataFrame\n",
       "Columns: [Serial, City, Month, Year, AvgTemperature]\n",
       "Index: []"
      ]
     },
     "execution_count": 25,
     "metadata": {},
     "output_type": "execute_result"
    }
   ],
   "source": [
    "#Create ds for Month = 1\n",
    "ds_new_Birmingham_January = ds_new_Birmingham[ds_new_Birmingham['Month'] == 1]\n",
    "\n",
    "#Check all rows if any month is not January\n",
    "ds_new_Birmingham_January[ds_new_Birmingham_January['Month'] != 1]"
   ]
  },
  {
   "cell_type": "code",
   "execution_count": 28,
   "metadata": {},
   "outputs": [
    {
     "data": {
      "text/html": [
       "<div>\n",
       "<style scoped>\n",
       "    .dataframe tbody tr th:only-of-type {\n",
       "        vertical-align: middle;\n",
       "    }\n",
       "\n",
       "    .dataframe tbody tr th {\n",
       "        vertical-align: top;\n",
       "    }\n",
       "\n",
       "    .dataframe thead th {\n",
       "        text-align: right;\n",
       "    }\n",
       "</style>\n",
       "<table border=\"1\" class=\"dataframe\">\n",
       "  <thead>\n",
       "    <tr style=\"text-align: right;\">\n",
       "      <th></th>\n",
       "      <th>Serial</th>\n",
       "      <th>City</th>\n",
       "      <th>Month</th>\n",
       "      <th>Year</th>\n",
       "      <th>AvgTemperature</th>\n",
       "    </tr>\n",
       "  </thead>\n",
       "  <tbody>\n",
       "    <tr>\n",
       "      <th>0</th>\n",
       "      <td>1</td>\n",
       "      <td>Birmingham</td>\n",
       "      <td>1</td>\n",
       "      <td>1995</td>\n",
       "      <td>50.7</td>\n",
       "    </tr>\n",
       "    <tr>\n",
       "      <th>1</th>\n",
       "      <td>2</td>\n",
       "      <td>Birmingham</td>\n",
       "      <td>1</td>\n",
       "      <td>1995</td>\n",
       "      <td>37.2</td>\n",
       "    </tr>\n",
       "    <tr>\n",
       "      <th>2</th>\n",
       "      <td>3</td>\n",
       "      <td>Birmingham</td>\n",
       "      <td>1</td>\n",
       "      <td>1995</td>\n",
       "      <td>33.2</td>\n",
       "    </tr>\n",
       "    <tr>\n",
       "      <th>3</th>\n",
       "      <td>4</td>\n",
       "      <td>Birmingham</td>\n",
       "      <td>1</td>\n",
       "      <td>1995</td>\n",
       "      <td>33.3</td>\n",
       "    </tr>\n",
       "    <tr>\n",
       "      <th>4</th>\n",
       "      <td>5</td>\n",
       "      <td>Birmingham</td>\n",
       "      <td>1</td>\n",
       "      <td>1995</td>\n",
       "      <td>26.4</td>\n",
       "    </tr>\n",
       "  </tbody>\n",
       "</table>\n",
       "</div>"
      ],
      "text/plain": [
       "   Serial        City  Month  Year  AvgTemperature\n",
       "0       1  Birmingham      1  1995            50.7\n",
       "1       2  Birmingham      1  1995            37.2\n",
       "2       3  Birmingham      1  1995            33.2\n",
       "3       4  Birmingham      1  1995            33.3\n",
       "4       5  Birmingham      1  1995            26.4"
      ]
     },
     "execution_count": 28,
     "metadata": {},
     "output_type": "execute_result"
    }
   ],
   "source": [
    "#Validating the month wise data\n",
    "len(ds_new_Birmingham_January)\n",
    "\n",
    "#Head of the data\n",
    "ds_new_Birmingham_January.head()"
   ]
  },
  {
   "cell_type": "code",
   "execution_count": 32,
   "metadata": {},
   "outputs": [
    {
     "data": {
      "text/plain": [
       "[<matplotlib.lines.Line2D at 0x29f99d6d0>]"
      ]
     },
     "execution_count": 32,
     "metadata": {},
     "output_type": "execute_result"
    },
    {
     "data": {
      "image/png": "[encoded data removed]",
      "text/plain": [
       "<Figure size 432x288 with 1 Axes>"
      ]
     },
     "metadata": {
      "needs_background": "light"
     },
     "output_type": "display_data"
    }
   ],
   "source": [
    "#plot graph for ds_new_Birmingham_January\n",
    "import matplotlib.pyplot as plt\n",
    "plt.plot(ds_new_Birmingham_January['Year'],ds_new_Birmingham_January['AvgTemperature'])"
   ]
  },
  {
   "cell_type": "code",
   "execution_count": 36,
   "metadata": {},
   "outputs": [
    {
     "name": "stdout",
     "output_type": "stream",
     "text": [
      "Year\n",
      "1995    26.4\n",
      "1996    22.7\n",
      "1997    21.0\n",
      "1998    35.6\n",
      "1999    21.1\n",
      "Name: AvgTemperature, dtype: float64\n",
      "Year\n",
      "1995    64.4\n",
      "1996    62.1\n",
      "1997    66.9\n",
      "1998    66.4\n",
      "1999    66.5\n",
      "Name: AvgTemperature, dtype: float64\n"
     ]
    }
   ],
   "source": [
    "#Get minimum AvgTemperature for each year\n",
    "ds_new_Birmingham_January_min = ds_new_Birmingham_January.groupby('Year')['AvgTemperature'].min()\n",
    "#Get maximum AvgTemperature for each year\n",
    "ds_new_Birmingham_January_max = ds_new_Birmingham_January.groupby('Year')['AvgTemperature'].max()\n",
    "\n",
    "print(ds_new_Birmingham_January_min.head())\n",
    "print(ds_new_Birmingham_January_max.head())"
   ]
  },
  {
   "cell_type": "code",
   "execution_count": 40,
   "metadata": {},
   "outputs": [
    {
     "data": {
      "text/plain": [
       "[<matplotlib.lines.Line2D at 0x2a02911f0>]"
      ]
     },
     "execution_count": 40,
     "metadata": {},
     "output_type": "execute_result"
    },
    {
     "data": {
      "image/png": "[encoded data removed]",
      "text/plain": [
       "<Figure size 432x288 with 1 Axes>"
      ]
     },
     "metadata": {
      "needs_background": "light"
     },
     "output_type": "display_data"
    }
   ],
   "source": [
    "#plot graph for ds_new_Birmingham_January_min vs ds_new_Birmingham_January_max\n",
    "plt.plot(ds_new_Birmingham_January_max)\n",
    "plt.plot(ds_new_Birmingham_January_min)\n"
   ]
  }
 ],
 "metadata": {
  "interpreter": {
   "hash": "95ec9ec1504d83f612128e0fb229072f90bbb4cb09d9d5d93b5dd26e0ca2cfd1"
  },
  "kernelspec": {
   "display_name": "Python 3.9.4 64-bit ('base': conda)",
   "name": "python3"
  },
  "language_info": {
   "codemirror_mode": {
    "name": "ipython",
    "version": 3
   },
   "file_extension": ".py",
   "mimetype": "text/x-python",
   "name": "python",
   "nbconvert_exporter": "python",
   "pygments_lexer": "ipython3",
   "version": "3.9.4"
  },
  "orig_nbformat": 4
 },
 "nbformat": 4,
 "nbformat_minor": 2
}