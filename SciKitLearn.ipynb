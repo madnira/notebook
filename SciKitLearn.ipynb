{
  "nbformat": 4,
  "nbformat_minor": 0,
  "metadata": {
    "colab": {
      "name": "Pandas.ipynb",
      "provenance": [],
      "collapsed_sections": [],
      "authorship_tag": "ABX9TyN70K6oknfdbdROc/mH/Fk7",
      "include_colab_link": true
    },
    "kernelspec": {
      "name": "python394jvsc74a57bd095ec9ec1504d83f612128e0fb229072f90bbb4cb09d9d5d93b5dd26e0ca2cfd1",
      "display_name": "Python 3.9.4 64-bit ('base': conda)"
    },
    "language_info": {
      "name": "python",
      "version": "3.9.4"
    },
    "metadata": {
      "interpreter": {
        "hash": "95ec9ec1504d83f612128e0fb229072f90bbb4cb09d9d5d93b5dd26e0ca2cfd1"
      }
    }
  },
  "cells": [
    {
      "cell_type": "markdown",
      "metadata": {
        "id": "view-in-github",
        "colab_type": "text"
      },
      "source": [
        "<a href=\"https://colab.research.google.com/github/madnira/notebook/blob/feature%2Fsample/Pandas.ipynb\" target=\"_parent\"><img src=\"https://colab.research.google.com/assets/colab-badge.svg\" alt=\"Open In Colab\"/></a>"
      ]
    },
    {
      "cell_type": "code",
      "metadata": {
        "id": "-eVLgjvM1-gm"
      },
      "source": [
        "# Playing with a Studetnt result data set\n",
        "\n",
        "import pandas as pd\n",
        "import numpy as np \n",
        "import pandas as pd\n",
        "\n",
        "# 4 Supervised Classification Learning Algorithms\n",
        "from sklearn.linear_model import LogisticRegression\n",
        "from sklearn.tree import DecisionTreeClassifier\n",
        "from sklearn.ensemble import RandomForestClassifier\n",
        "from sklearn.neighbors import KNeighborsClassifier\n",
        "\n",
        "from sklearn.model_selection import train_test_split\n",
        "from sklearn.metrics import accuracy_score, confusion_matrix, classification_report\n",
        "\n",
        "pd.Series([1,2,3,4,5])"
      ],
      "execution_count": null,
      "outputs": []
    },
    {
      "cell_type": "code",
      "execution_count": null,
      "metadata": {},
      "outputs": [],
      "source": []
    }
  ]
}