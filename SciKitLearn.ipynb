{
  "metadata": {
    "language_info": {
      "codemirror_mode": {
        "name": "ipython",
        "version": 3
      },
      "file_extension": ".py",
      "mimetype": "text/x-python",
      "name": "python",
      "nbconvert_exporter": "python",
      "pygments_lexer": "ipython3",
      "version": "3.9.4"
    },
    "orig_nbformat": 2,
    "kernelspec": {
      "name": "python394jvsc74a57bd095ec9ec1504d83f612128e0fb229072f90bbb4cb09d9d5d93b5dd26e0ca2cfd1",
      "display_name": "Python 3.9.4 64-bit ('base': conda)"
    },
    "colab": {
      "name": "SciKitLearn.ipynb",
      "provenance": [],
      "include_colab_link": true
    }
  },
  "nbformat": 4,
  "nbformat_minor": 0,
  "cells": [
    {
      "cell_type": "markdown",
      "metadata": {
        "id": "view-in-github",
        "colab_type": "text"
      },
      "source": [
        "<a href=\"https://colab.research.google.com/github/madnira/notebook/blob/feature%2Fsample/SciKitLearn.ipynb\" target=\"_parent\"><img src=\"https://colab.research.google.com/assets/colab-badge.svg\" alt=\"Open In Colab\"/></a>"
      ]
    },
    {
      "cell_type": "code",
      "execution_count": 1,
      "metadata": {
        "id": "c7JxbHm1GaSR"
      },
      "outputs": [],
      "source": [
        "import tensorflow as tf\n",
        "import keras\n"
      ]
    },
    {
      "cell_type": "code",
      "execution_count": 2,
      "metadata": {
        "id": "ztT3KMeCGaSW"
      },
      "outputs": [],
      "source": [
        "from keras.models import Sequential\n",
        "from keras.layers import Dense, Dropout, Flatten"
      ]
    },
    {
      "cell_type": "code",
      "source": [
        "model = keras.models.Sequential([keras.layers.Dense(units=1, input_shape=[1])])\n",
        "model.compile(optimizer='sgd', loss='mean_squared_error')"
      ],
      "metadata": {
        "id": "MCP-wZtVHlPS"
      },
      "execution_count": 46,
      "outputs": []
    },
    {
      "cell_type": "code",
      "source": [
        "#Create XS and YS   \n",
        "import numpy as np\n",
        "xs = np.array([-1.0,  0.0, 1.0, 2.0, 3.0, 4.0], dtype=float)\n",
        "ys = np.array([-3.0, -1.0, 1.0, 3.0, 5.0, 7.0], dtype=float)\n",
        "\n",
        "#Show first 5 elements\n",
        "print(xs[0:5])\n"
      ],
      "metadata": {
        "id": "9_SNqd0FIKBE",
        "outputId": "96d27c39-a48c-472c-d207-ed3d70cc61e4",
        "colab": {
          "base_uri": "https://localhost:8080/"
        }
      },
      "execution_count": 22,
      "outputs": [
        {
          "output_type": "stream",
          "name": "stdout",
          "text": [
            "[-1.  0.  1.  2.  3.]\n"
          ]
        }
      ]
    },
    {
      "cell_type": "code",
      "source": [
        "#Create X list with 100 elements of even numbers\n",
        "XS = np.array([np.linspace(1, 100, 100)], dtype=float)\n",
        "\n",
        "#define a function to to generate a list with 100 elements with a 2x+1 pattern\n",
        "def f(x):\n",
        "    return 2*x+1\n",
        "\n",
        "#Create Y list with 100 elements of f(x) taking the value of x from XS run a for loop\n",
        "YS = np.array([f(x) for x in XS], dtype=float)\n",
        "\n",
        "#Show first 5 elements of XS\n",
        "print(XS[0:5])\n",
        "print(YS[0:5])"
      ],
      "metadata": {
        "id": "kC2Mky00JszF"
      },
      "execution_count": null,
      "outputs": []
    },
    {
      "cell_type": "code",
      "source": [
        "#fit the model\n",
        "model.fit(xs, ys, epochs=600)"
      ],
      "metadata": {
        "collapsed": true,
        "id": "UE3I-S67ImAO"
      },
      "execution_count": null,
      "outputs": []
    },
    {
      "cell_type": "code",
      "source": [
        "#Get output from the model\n",
        "print(model.predict([5.0]))"
      ],
      "metadata": {
        "id": "36gJ3giHIvEu",
        "outputId": "fbf9fbd8-c1cc-4d57-d4a4-082aa6e7ce25",
        "colab": {
          "base_uri": "https://localhost:8080/"
        }
      },
      "execution_count": 54,
      "outputs": [
        {
          "output_type": "stream",
          "name": "stdout",
          "text": [
            "[[8.9999895]]\n"
          ]
        }
      ]
    }
  ]
}