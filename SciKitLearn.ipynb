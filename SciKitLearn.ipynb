{
  "nbformat": 4,
  "nbformat_minor": 0,
  "metadata": {
    "colab": {
      "name": "SciKitLearn.ipynb",
      "provenance": [],
      "collapsed_sections": [],
      "include_colab_link": true
    },
    "kernelspec": {
      "name": "python3",
      "display_name": "Python 3"
    },
    "language_info": {
      "name": "python"
    }
  },
  "cells": [
    {
      "cell_type": "markdown",
      "metadata": {
        "id": "view-in-github",
        "colab_type": "text"
      },
      "source": [
        "<a href=\"https://colab.research.google.com/github/madnira/notebook/blob/feature%2Fsample/SciKitLearn.ipynb\" target=\"_parent\"><img src=\"https://colab.research.google.com/assets/colab-badge.svg\" alt=\"Open In Colab\"/></a>"
      ]
    },
    {
      "cell_type": "code",
      "metadata": {
        "id": "c6hG1Jxo2772"
      },
      "source": [
        "import numpy as np \n",
        "import pandas as pd\n",
        "\n",
        "# 4 Supervised Classification Learning Algorithms\n",
        "from sklearn.linear_model import LogisticRegression\n",
        "from sklearn.tree import DecisionTreeClassifier\n",
        "from sklearn.ensemble import RandomForestClassifier\n",
        "from sklearn.neighbors import KNeighborsClassifier\n",
        "\n",
        "from sklearn.model_selection import train_test_split\n",
        "from sklearn.metrics import accuracy_score, confusion_matrix, classification_report"
      ],
      "execution_count": 1,
      "outputs": []
    },
    {
      "cell_type": "code",
      "metadata": {
        "id": "UreQmxy834wv"
      },
      "source": [
        "# Import CSV from Github\n",
        "\n",
        "URL = 'https://raw.githubusercontent.com/madnira/notebook/feature/sample/student_result.csv'\n",
        "\n",
        "dataset = pd.read_csv(URL)\n",
        "\n",
        "print (dataset)"
      ],
      "execution_count": null,
      "outputs": []
    },
    {
      "cell_type": "code",
      "metadata": {
        "id": "zHe3LABf5Try"
      },
      "source": [
        "# RESULT column is the LABEL for determination & the model to learn\n",
        "\n",
        "y = dataset[\"result\"]\n",
        "\n",
        "print (y)\n",
        "\n",
        "# REST of the COLUMNS are the features which decide the RESULT as Pass or Fail\n",
        "\n",
        "X = dataset.drop(\"result\", axis=1)\n",
        "\n",
        "print (X)"
      ],
      "execution_count": null,
      "outputs": []
    }
  ]
}