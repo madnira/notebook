{
 "cells": [
  {
   "cell_type": "code",
   "execution_count": null,
   "metadata": {
    "scrolled": true
   },
   "outputs": [],
   "source": [
    "#Freshly importing a CSV file for 3 flower variants and a data set of 50 units each.\n",
    "# File - iris-data.csv\n",
    "\n",
    "#----------importing pandas & creating a object pd-------------------\n",
    "import pandas as pd\n",
    "\n",
    "#---------storing the data in array iris_data\n",
    "iris_data = pd.read_csv('E:\\data\\dataSet\\iris-data.csv', na_values=['NA'])\n",
    "\n",
    "#-----------for deom purpose, showing the first & last 5 rows of the data\n",
    "iris_data.head()\n",
    "iris_data.tail()"
   ]
  },
  {
   "cell_type": "code",
   "execution_count": null,
   "metadata": {
    "scrolled": false
   },
   "outputs": [],
   "source": [
    "#-------Getting a description of the data in terms of max, min, 50%, total count etc\n",
    "\n",
    "iris_data.describe()"
   ]
  },
  {
   "cell_type": "code",
   "execution_count": null,
   "metadata": {},
   "outputs": [],
   "source": [
    "# This line tells the notebook to show plots inside of the notebook\n",
    "%matplotlib inline\n",
    "\n",
    "import matplotlib.pyplot as plt\n",
    "import seaborn as sb"
   ]
  },
  {
   "cell_type": "code",
   "execution_count": null,
   "metadata": {
    "scrolled": true
   },
   "outputs": [],
   "source": [
    "#---Creating the plot--------\n",
    "sb.pairplot(iris_data.dropna(), hue='type')\n",
    ";"
   ]
  },
  {
   "cell_type": "code",
   "execution_count": null,
   "metadata": {},
   "outputs": [],
   "source": [
    "#---- Correcting the error in spelling for the types of flower\n",
    "\n",
    "iris_data.loc[iris_data['type'] == 'versicolor', 'type'] = 'Iris-versicolor'\n",
    "iris_data.loc[iris_data['type'] == 'Iris-setossa', 'type'] = 'Iris-setosa'\n",
    "\n",
    "iris_data['type'].unique()"
   ]
  },
  {
   "cell_type": "code",
   "execution_count": null,
   "metadata": {},
   "outputs": [],
   "source": [
    "#---- Changing one of the name of the source to the correct cource in the data\n",
    "\n",
    "iris_data.loc[iris_data['source'] == 'Shankar', 'source'] = 'Arindam'\n",
    "\n",
    "iris_data['source'].unique()"
   ]
  },
  {
   "cell_type": "code",
   "execution_count": null,
   "metadata": {
    "scrolled": true
   },
   "outputs": [],
   "source": [
    "#----- This line drops any 'Iris-setosa' rows with a separal width less than 2.5 cm\n",
    "\n",
    "iris_data = iris_data.loc[(iris_data['type'] != 'Iris-setosa') | (iris_data['sepal_width_cm'] >= 2.5)]\n",
    "iris_data.loc[iris_data['type'] == 'Iris-setosa', 'sepal_width_cm'].hist()\n",
    ";"
   ]
  },
  {
   "cell_type": "code",
   "execution_count": null,
   "metadata": {},
   "outputs": [],
   "source": [
    "#----- Get the list of iris-versicolor data where sepal_length_cm values are near to zero\n",
    "\n",
    "iris_data.loc[(iris_data['type'] == 'Iris-versicolor') &\n",
    "              (iris_data['sepal_length_cm'] < 1.0)]"
   ]
  },
  {
   "cell_type": "code",
   "execution_count": null,
   "metadata": {
    "scrolled": true
   },
   "outputs": [],
   "source": [
    "#---- Convert all the incorrect data figured out above to convert from meter to cm to run out the error\n",
    "\n",
    "iris_data.loc[(iris_data['type'] == 'Iris-versicolor') &\n",
    "              (iris_data['sepal_length_cm'] < 1.0), \n",
    "              'sepal_length_cm' ] = iris_data['sepal_length_cm'] * 100"
   ]
  },
  {
   "cell_type": "code",
   "execution_count": null,
   "metadata": {},
   "outputs": [],
   "source": [
    "#---- verifying the above corrections\n",
    "\n",
    "iris_data.loc[(iris_data['type'] == 'Iris-versicolor') &\n",
    "              (iris_data['sepal_width_cm'] == 3.0) & (iris_data['petal_length_cm'] == 5.0) ]"
   ]
  },
  {
   "cell_type": "code",
   "execution_count": null,
   "metadata": {},
   "outputs": [],
   "source": [
    "#Identify all the rows with NA values\n",
    "\n",
    "iris_data.loc[(iris_data['sepal_length_cm'].isnull()) |\n",
    "              (iris_data['sepal_width_cm'].isnull()) |\n",
    "              (iris_data['petal_length_cm'].isnull()) |\n",
    "              (iris_data['petal_width_cm'].isnull())]"
   ]
  },
  {
   "cell_type": "code",
   "execution_count": null,
   "metadata": {},
   "outputs": [],
   "source": [
    "#Fetch the range of data for petal_witdh to estimate the avg value\n",
    "\n",
    "iris_data.loc[iris_data['type'] == 'Iris-setosa', 'petal_width_cm'].hist()\n",
    ";"
   ]
  },
  {
   "cell_type": "code",
   "execution_count": null,
   "metadata": {},
   "outputs": [],
   "source": [
    "#Lets fill the blank data with the average of petal width of IRIS-Setosa by calculating the mean value\n",
    "\n",
    "average_petal_width = iris_data.loc[iris_data['type'] == 'Iris-setosa', 'petal_width_cm'].mean()\n",
    "\n",
    "iris_data.loc[(iris_data['type'] == 'Iris-setosa') &\n",
    "              (iris_data['petal_width_cm'].isnull()),\n",
    "              'petal_width_cm'] = average_petal_width\n",
    "\n",
    "iris_data.loc[(iris_data['type'] == 'Iris-setosa') &\n",
    "              (iris_data['petal_width_cm'] == average_petal_width)]"
   ]
  },
  {
   "cell_type": "code",
   "execution_count": null,
   "metadata": {
    "scrolled": true
   },
   "outputs": [],
   "source": [
    "#Export the cleaned data sheet\n",
    "\n",
    "iris_data.to_csv(\"E:\\data\\dataSet\\iris-data_cleaned_1.0.csv\", index=False)"
   ]
  },
  {
   "cell_type": "code",
   "execution_count": null,
   "metadata": {},
   "outputs": [],
   "source": [
    "#Import the cleaned data sheet\n",
    "\n",
    "iris_data_clean = pd.read_csv('E:\\data\\dataSet\\iris-data_cleaned_1.0.csv', na_values=['NA'])"
   ]
  },
  {
   "cell_type": "code",
   "execution_count": null,
   "metadata": {},
   "outputs": [],
   "source": [
    "#See the fresh charts\n",
    "\n",
    "sb.pairplot(iris_data_clean, hue='type')\n",
    ";"
   ]
  },
  {
   "cell_type": "code",
   "execution_count": null,
   "metadata": {},
   "outputs": [],
   "source": []
  }
 ],
 "metadata": {
  "kernelspec": {
   "display_name": "Python 2",
   "language": "python",
   "name": "python2"
  },
  "language_info": {
   "codemirror_mode": {
    "name": "ipython",
    "version": 2
   },
   "file_extension": ".py",
   "mimetype": "text/x-python",
   "name": "python",
   "nbconvert_exporter": "python",
   "pygments_lexer": "ipython2",
   "version": "2.7.13"
  }
 },
 "nbformat": 4,
 "nbformat_minor": 2
}
